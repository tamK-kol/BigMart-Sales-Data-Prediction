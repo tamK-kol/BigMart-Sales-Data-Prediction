{
 "cells": [
  {
   "cell_type": "code",
   "execution_count": 1,
   "id": "528d30d0",
   "metadata": {
    "_cell_guid": "b1076dfc-b9ad-4769-8c92-a6c4dae69d19",
    "_uuid": "8f2839f25d086af736a60e9eeb907d3b93b6e0e5",
    "execution": {
     "iopub.execute_input": "2024-01-11T12:48:06.500517Z",
     "iopub.status.busy": "2024-01-11T12:48:06.499843Z",
     "iopub.status.idle": "2024-01-11T12:48:07.432501Z",
     "shell.execute_reply": "2024-01-11T12:48:07.430553Z"
    },
    "papermill": {
     "duration": 0.956481,
     "end_time": "2024-01-11T12:48:07.435720",
     "exception": false,
     "start_time": "2024-01-11T12:48:06.479239",
     "status": "completed"
    },
    "tags": []
   },
   "outputs": [
    {
     "name": "stdout",
     "output_type": "stream",
     "text": [
      "/kaggle/input/bigmart-sales-data/Train.csv\n",
      "/kaggle/input/bigmart-sales-data/Test.csv\n"
     ]
    }
   ],
   "source": [
    "# This Python 3 environment comes with many helpful analytics libraries installed\n",
    "# It is defined by the kaggle/python Docker image: https://github.com/kaggle/docker-python\n",
    "# For example, here's several helpful packages to load\n",
    "\n",
    "import numpy as np # linear algebra\n",
    "import pandas as pd # data processing, CSV file I/O (e.g. pd.read_csv)\n",
    "\n",
    "# Input data files are available in the read-only \"../input/\" directory\n",
    "# For example, running this (by clicking run or pressing Shift+Enter) will list all files under the input directory\n",
    "\n",
    "import os\n",
    "for dirname, _, filenames in os.walk('/kaggle/input'):\n",
    "    for filename in filenames:\n",
    "        print(os.path.join(dirname, filename))\n",
    "\n",
    "# You can write up to 20GB to the current directory (/kaggle/working/) that gets preserved as output when you create a version using \"Save & Run All\" \n",
    "# You can also write temporary files to /kaggle/temp/, but they won't be saved outside of the current session"
   ]
  },
  {
   "cell_type": "code",
   "execution_count": 2,
   "id": "b09e9e5a",
   "metadata": {
    "execution": {
     "iopub.execute_input": "2024-01-11T12:48:07.477389Z",
     "iopub.status.busy": "2024-01-11T12:48:07.476853Z",
     "iopub.status.idle": "2024-01-11T12:48:11.169677Z",
     "shell.execute_reply": "2024-01-11T12:48:11.168211Z"
    },
    "papermill": {
     "duration": 3.716976,
     "end_time": "2024-01-11T12:48:11.172926",
     "exception": false,
     "start_time": "2024-01-11T12:48:07.455950",
     "status": "completed"
    },
    "tags": []
   },
   "outputs": [],
   "source": [
    "import pandas as pd\n",
    "import numpy as np\n",
    "import matplotlib.pyplot as plt\n",
    "import seaborn as sns\n",
    "\n",
    "from sklearn.preprocessing import StandardScaler\n",
    "from sklearn.preprocessing import LabelEncoder\n",
    "\n",
    "from sklearn.model_selection import train_test_split\n",
    "from xgboost import XGBRegressor\n",
    "from sklearn.ensemble import RandomForestRegressor\n",
    "from sklearn.ensemble import GradientBoostingRegressor\n",
    "from sklearn.svm import SVR\n",
    "from lightgbm import LGBMRegressor\n",
    "\n",
    "from sklearn import metrics\n",
    "\n",
    "from warnings import filterwarnings\n",
    "filterwarnings('ignore')"
   ]
  },
  {
   "cell_type": "code",
   "execution_count": 3,
   "id": "6d552068",
   "metadata": {
    "execution": {
     "iopub.execute_input": "2024-01-11T12:48:11.211149Z",
     "iopub.status.busy": "2024-01-11T12:48:11.210640Z",
     "iopub.status.idle": "2024-01-11T12:48:27.232970Z",
     "shell.execute_reply": "2024-01-11T12:48:27.230770Z"
    },
    "papermill": {
     "duration": 16.04474,
     "end_time": "2024-01-11T12:48:27.236031",
     "exception": false,
     "start_time": "2024-01-11T12:48:11.191291",
     "status": "completed"
    },
    "tags": []
   },
   "outputs": [
    {
     "name": "stdout",
     "output_type": "stream",
     "text": [
      "Collecting lazypredict\r\n",
      "  Downloading lazypredict-0.2.12-py2.py3-none-any.whl (12 kB)\r\n",
      "Requirement already satisfied: click in /opt/conda/lib/python3.10/site-packages (from lazypredict) (8.1.7)\r\n",
      "Requirement already satisfied: scikit-learn in /opt/conda/lib/python3.10/site-packages (from lazypredict) (1.2.2)\r\n",
      "Requirement already satisfied: pandas in /opt/conda/lib/python3.10/site-packages (from lazypredict) (2.0.3)\r\n",
      "Requirement already satisfied: tqdm in /opt/conda/lib/python3.10/site-packages (from lazypredict) (4.66.1)\r\n",
      "Requirement already satisfied: joblib in /opt/conda/lib/python3.10/site-packages (from lazypredict) (1.3.2)\r\n",
      "Requirement already satisfied: lightgbm in /opt/conda/lib/python3.10/site-packages (from lazypredict) (3.3.2)\r\n",
      "Requirement already satisfied: xgboost in /opt/conda/lib/python3.10/site-packages (from lazypredict) (2.0.2)\r\n",
      "Requirement already satisfied: wheel in /opt/conda/lib/python3.10/site-packages (from lightgbm->lazypredict) (0.41.2)\r\n",
      "Requirement already satisfied: numpy in /opt/conda/lib/python3.10/site-packages (from lightgbm->lazypredict) (1.24.3)\r\n",
      "Requirement already satisfied: scipy in /opt/conda/lib/python3.10/site-packages (from lightgbm->lazypredict) (1.11.4)\r\n",
      "Requirement already satisfied: threadpoolctl>=2.0.0 in /opt/conda/lib/python3.10/site-packages (from scikit-learn->lazypredict) (3.2.0)\r\n",
      "Requirement already satisfied: python-dateutil>=2.8.2 in /opt/conda/lib/python3.10/site-packages (from pandas->lazypredict) (2.8.2)\r\n",
      "Requirement already satisfied: pytz>=2020.1 in /opt/conda/lib/python3.10/site-packages (from pandas->lazypredict) (2023.3)\r\n",
      "Requirement already satisfied: tzdata>=2022.1 in /opt/conda/lib/python3.10/site-packages (from pandas->lazypredict) (2023.3)\r\n",
      "Requirement already satisfied: six>=1.5 in /opt/conda/lib/python3.10/site-packages (from python-dateutil>=2.8.2->pandas->lazypredict) (1.16.0)\r\n",
      "Installing collected packages: lazypredict\r\n",
      "Successfully installed lazypredict-0.2.12\r\n",
      "Note: you may need to restart the kernel to use updated packages.\n"
     ]
    }
   ],
   "source": [
    "pip install lazypredict"
   ]
  },
  {
   "cell_type": "code",
   "execution_count": 4,
   "id": "9a011570",
   "metadata": {
    "execution": {
     "iopub.execute_input": "2024-01-11T12:48:27.277020Z",
     "iopub.status.busy": "2024-01-11T12:48:27.276523Z",
     "iopub.status.idle": "2024-01-11T12:48:27.343513Z",
     "shell.execute_reply": "2024-01-11T12:48:27.342280Z"
    },
    "papermill": {
     "duration": 0.091803,
     "end_time": "2024-01-11T12:48:27.346747",
     "exception": false,
     "start_time": "2024-01-11T12:48:27.254944",
     "status": "completed"
    },
    "tags": []
   },
   "outputs": [],
   "source": [
    "## Data Collection and Processing\n",
    "# Read the data\n",
    "df_train = pd.read_csv('/kaggle/input/bigmart-sales-data/Train.csv')"
   ]
  },
  {
   "cell_type": "code",
   "execution_count": 5,
   "id": "f2acf1dd",
   "metadata": {
    "execution": {
     "iopub.execute_input": "2024-01-11T12:48:27.388635Z",
     "iopub.status.busy": "2024-01-11T12:48:27.387876Z",
     "iopub.status.idle": "2024-01-11T12:48:27.426409Z",
     "shell.execute_reply": "2024-01-11T12:48:27.425094Z"
    },
    "papermill": {
     "duration": 0.063372,
     "end_time": "2024-01-11T12:48:27.429149",
     "exception": false,
     "start_time": "2024-01-11T12:48:27.365777",
     "status": "completed"
    },
    "tags": []
   },
   "outputs": [
    {
     "data": {
      "text/html": [
       "<div>\n",
       "<style scoped>\n",
       "    .dataframe tbody tr th:only-of-type {\n",
       "        vertical-align: middle;\n",
       "    }\n",
       "\n",
       "    .dataframe tbody tr th {\n",
       "        vertical-align: top;\n",
       "    }\n",
       "\n",
       "    .dataframe thead th {\n",
       "        text-align: right;\n",
       "    }\n",
       "</style>\n",
       "<table border=\"1\" class=\"dataframe\">\n",
       "  <thead>\n",
       "    <tr style=\"text-align: right;\">\n",
       "      <th></th>\n",
       "      <th>Item_Identifier</th>\n",
       "      <th>Item_Weight</th>\n",
       "      <th>Item_Fat_Content</th>\n",
       "      <th>Item_Visibility</th>\n",
       "      <th>Item_Type</th>\n",
       "      <th>Item_MRP</th>\n",
       "      <th>Outlet_Identifier</th>\n",
       "      <th>Outlet_Establishment_Year</th>\n",
       "      <th>Outlet_Size</th>\n",
       "      <th>Outlet_Location_Type</th>\n",
       "      <th>Outlet_Type</th>\n",
       "      <th>Item_Outlet_Sales</th>\n",
       "    </tr>\n",
       "  </thead>\n",
       "  <tbody>\n",
       "    <tr>\n",
       "      <th>0</th>\n",
       "      <td>FDA15</td>\n",
       "      <td>9.300</td>\n",
       "      <td>Low Fat</td>\n",
       "      <td>0.016047</td>\n",
       "      <td>Dairy</td>\n",
       "      <td>249.8092</td>\n",
       "      <td>OUT049</td>\n",
       "      <td>1999</td>\n",
       "      <td>Medium</td>\n",
       "      <td>Tier 1</td>\n",
       "      <td>Supermarket Type1</td>\n",
       "      <td>3735.1380</td>\n",
       "    </tr>\n",
       "    <tr>\n",
       "      <th>1</th>\n",
       "      <td>DRC01</td>\n",
       "      <td>5.920</td>\n",
       "      <td>Regular</td>\n",
       "      <td>0.019278</td>\n",
       "      <td>Soft Drinks</td>\n",
       "      <td>48.2692</td>\n",
       "      <td>OUT018</td>\n",
       "      <td>2009</td>\n",
       "      <td>Medium</td>\n",
       "      <td>Tier 3</td>\n",
       "      <td>Supermarket Type2</td>\n",
       "      <td>443.4228</td>\n",
       "    </tr>\n",
       "    <tr>\n",
       "      <th>2</th>\n",
       "      <td>FDN15</td>\n",
       "      <td>17.500</td>\n",
       "      <td>Low Fat</td>\n",
       "      <td>0.016760</td>\n",
       "      <td>Meat</td>\n",
       "      <td>141.6180</td>\n",
       "      <td>OUT049</td>\n",
       "      <td>1999</td>\n",
       "      <td>Medium</td>\n",
       "      <td>Tier 1</td>\n",
       "      <td>Supermarket Type1</td>\n",
       "      <td>2097.2700</td>\n",
       "    </tr>\n",
       "    <tr>\n",
       "      <th>3</th>\n",
       "      <td>FDX07</td>\n",
       "      <td>19.200</td>\n",
       "      <td>Regular</td>\n",
       "      <td>0.000000</td>\n",
       "      <td>Fruits and Vegetables</td>\n",
       "      <td>182.0950</td>\n",
       "      <td>OUT010</td>\n",
       "      <td>1998</td>\n",
       "      <td>NaN</td>\n",
       "      <td>Tier 3</td>\n",
       "      <td>Grocery Store</td>\n",
       "      <td>732.3800</td>\n",
       "    </tr>\n",
       "    <tr>\n",
       "      <th>4</th>\n",
       "      <td>NCD19</td>\n",
       "      <td>8.930</td>\n",
       "      <td>Low Fat</td>\n",
       "      <td>0.000000</td>\n",
       "      <td>Household</td>\n",
       "      <td>53.8614</td>\n",
       "      <td>OUT013</td>\n",
       "      <td>1987</td>\n",
       "      <td>High</td>\n",
       "      <td>Tier 3</td>\n",
       "      <td>Supermarket Type1</td>\n",
       "      <td>994.7052</td>\n",
       "    </tr>\n",
       "    <tr>\n",
       "      <th>5</th>\n",
       "      <td>FDP36</td>\n",
       "      <td>10.395</td>\n",
       "      <td>Regular</td>\n",
       "      <td>0.000000</td>\n",
       "      <td>Baking Goods</td>\n",
       "      <td>51.4008</td>\n",
       "      <td>OUT018</td>\n",
       "      <td>2009</td>\n",
       "      <td>Medium</td>\n",
       "      <td>Tier 3</td>\n",
       "      <td>Supermarket Type2</td>\n",
       "      <td>556.6088</td>\n",
       "    </tr>\n",
       "    <tr>\n",
       "      <th>6</th>\n",
       "      <td>FDO10</td>\n",
       "      <td>13.650</td>\n",
       "      <td>Regular</td>\n",
       "      <td>0.012741</td>\n",
       "      <td>Snack Foods</td>\n",
       "      <td>57.6588</td>\n",
       "      <td>OUT013</td>\n",
       "      <td>1987</td>\n",
       "      <td>High</td>\n",
       "      <td>Tier 3</td>\n",
       "      <td>Supermarket Type1</td>\n",
       "      <td>343.5528</td>\n",
       "    </tr>\n",
       "    <tr>\n",
       "      <th>7</th>\n",
       "      <td>FDP10</td>\n",
       "      <td>NaN</td>\n",
       "      <td>Low Fat</td>\n",
       "      <td>0.127470</td>\n",
       "      <td>Snack Foods</td>\n",
       "      <td>107.7622</td>\n",
       "      <td>OUT027</td>\n",
       "      <td>1985</td>\n",
       "      <td>Medium</td>\n",
       "      <td>Tier 3</td>\n",
       "      <td>Supermarket Type3</td>\n",
       "      <td>4022.7636</td>\n",
       "    </tr>\n",
       "    <tr>\n",
       "      <th>8</th>\n",
       "      <td>FDH17</td>\n",
       "      <td>16.200</td>\n",
       "      <td>Regular</td>\n",
       "      <td>0.016687</td>\n",
       "      <td>Frozen Foods</td>\n",
       "      <td>96.9726</td>\n",
       "      <td>OUT045</td>\n",
       "      <td>2002</td>\n",
       "      <td>NaN</td>\n",
       "      <td>Tier 2</td>\n",
       "      <td>Supermarket Type1</td>\n",
       "      <td>1076.5986</td>\n",
       "    </tr>\n",
       "    <tr>\n",
       "      <th>9</th>\n",
       "      <td>FDU28</td>\n",
       "      <td>19.200</td>\n",
       "      <td>Regular</td>\n",
       "      <td>0.094450</td>\n",
       "      <td>Frozen Foods</td>\n",
       "      <td>187.8214</td>\n",
       "      <td>OUT017</td>\n",
       "      <td>2007</td>\n",
       "      <td>NaN</td>\n",
       "      <td>Tier 2</td>\n",
       "      <td>Supermarket Type1</td>\n",
       "      <td>4710.5350</td>\n",
       "    </tr>\n",
       "  </tbody>\n",
       "</table>\n",
       "</div>"
      ],
      "text/plain": [
       "  Item_Identifier  Item_Weight Item_Fat_Content  Item_Visibility  \\\n",
       "0           FDA15        9.300          Low Fat         0.016047   \n",
       "1           DRC01        5.920          Regular         0.019278   \n",
       "2           FDN15       17.500          Low Fat         0.016760   \n",
       "3           FDX07       19.200          Regular         0.000000   \n",
       "4           NCD19        8.930          Low Fat         0.000000   \n",
       "5           FDP36       10.395          Regular         0.000000   \n",
       "6           FDO10       13.650          Regular         0.012741   \n",
       "7           FDP10          NaN          Low Fat         0.127470   \n",
       "8           FDH17       16.200          Regular         0.016687   \n",
       "9           FDU28       19.200          Regular         0.094450   \n",
       "\n",
       "               Item_Type  Item_MRP Outlet_Identifier  \\\n",
       "0                  Dairy  249.8092            OUT049   \n",
       "1            Soft Drinks   48.2692            OUT018   \n",
       "2                   Meat  141.6180            OUT049   \n",
       "3  Fruits and Vegetables  182.0950            OUT010   \n",
       "4              Household   53.8614            OUT013   \n",
       "5           Baking Goods   51.4008            OUT018   \n",
       "6            Snack Foods   57.6588            OUT013   \n",
       "7            Snack Foods  107.7622            OUT027   \n",
       "8           Frozen Foods   96.9726            OUT045   \n",
       "9           Frozen Foods  187.8214            OUT017   \n",
       "\n",
       "   Outlet_Establishment_Year Outlet_Size Outlet_Location_Type  \\\n",
       "0                       1999      Medium               Tier 1   \n",
       "1                       2009      Medium               Tier 3   \n",
       "2                       1999      Medium               Tier 1   \n",
       "3                       1998         NaN               Tier 3   \n",
       "4                       1987        High               Tier 3   \n",
       "5                       2009      Medium               Tier 3   \n",
       "6                       1987        High               Tier 3   \n",
       "7                       1985      Medium               Tier 3   \n",
       "8                       2002         NaN               Tier 2   \n",
       "9                       2007         NaN               Tier 2   \n",
       "\n",
       "         Outlet_Type  Item_Outlet_Sales  \n",
       "0  Supermarket Type1          3735.1380  \n",
       "1  Supermarket Type2           443.4228  \n",
       "2  Supermarket Type1          2097.2700  \n",
       "3      Grocery Store           732.3800  \n",
       "4  Supermarket Type1           994.7052  \n",
       "5  Supermarket Type2           556.6088  \n",
       "6  Supermarket Type1           343.5528  \n",
       "7  Supermarket Type3          4022.7636  \n",
       "8  Supermarket Type1          1076.5986  \n",
       "9  Supermarket Type1          4710.5350  "
      ]
     },
     "execution_count": 5,
     "metadata": {},
     "output_type": "execute_result"
    }
   ],
   "source": [
    "# See first 10 rows\n",
    "df_train.head(10)"
   ]
  },
  {
   "cell_type": "code",
   "execution_count": 6,
   "id": "ee00d893",
   "metadata": {
    "execution": {
     "iopub.execute_input": "2024-01-11T12:48:27.470614Z",
     "iopub.status.busy": "2024-01-11T12:48:27.469134Z",
     "iopub.status.idle": "2024-01-11T12:48:27.476623Z",
     "shell.execute_reply": "2024-01-11T12:48:27.475197Z"
    },
    "papermill": {
     "duration": 0.030754,
     "end_time": "2024-01-11T12:48:27.479161",
     "exception": false,
     "start_time": "2024-01-11T12:48:27.448407",
     "status": "completed"
    },
    "tags": []
   },
   "outputs": [
    {
     "name": "stdout",
     "output_type": "stream",
     "text": [
      "Number of Rows: 8523\n",
      "Number of Features: 12\n"
     ]
    }
   ],
   "source": [
    "# Print number of rows and columns separately\n",
    "\n",
    "print(\"Number of Rows:\", df_train.shape[0])\n",
    "print(\"Number of Features:\", df_train.shape[1])"
   ]
  },
  {
   "cell_type": "code",
   "execution_count": 7,
   "id": "0aaaae02",
   "metadata": {
    "execution": {
     "iopub.execute_input": "2024-01-11T12:48:27.519822Z",
     "iopub.status.busy": "2024-01-11T12:48:27.519348Z",
     "iopub.status.idle": "2024-01-11T12:48:27.559300Z",
     "shell.execute_reply": "2024-01-11T12:48:27.557559Z"
    },
    "papermill": {
     "duration": 0.063853,
     "end_time": "2024-01-11T12:48:27.561900",
     "exception": false,
     "start_time": "2024-01-11T12:48:27.498047",
     "status": "completed"
    },
    "tags": []
   },
   "outputs": [
    {
     "name": "stdout",
     "output_type": "stream",
     "text": [
      "<class 'pandas.core.frame.DataFrame'>\n",
      "RangeIndex: 8523 entries, 0 to 8522\n",
      "Data columns (total 12 columns):\n",
      " #   Column                     Non-Null Count  Dtype  \n",
      "---  ------                     --------------  -----  \n",
      " 0   Item_Identifier            8523 non-null   object \n",
      " 1   Item_Weight                7060 non-null   float64\n",
      " 2   Item_Fat_Content           8523 non-null   object \n",
      " 3   Item_Visibility            8523 non-null   float64\n",
      " 4   Item_Type                  8523 non-null   object \n",
      " 5   Item_MRP                   8523 non-null   float64\n",
      " 6   Outlet_Identifier          8523 non-null   object \n",
      " 7   Outlet_Establishment_Year  8523 non-null   int64  \n",
      " 8   Outlet_Size                6113 non-null   object \n",
      " 9   Outlet_Location_Type       8523 non-null   object \n",
      " 10  Outlet_Type                8523 non-null   object \n",
      " 11  Item_Outlet_Sales          8523 non-null   float64\n",
      "dtypes: float64(4), int64(1), object(7)\n",
      "memory usage: 799.2+ KB\n"
     ]
    }
   ],
   "source": [
    "df_train.info()"
   ]
  },
  {
   "cell_type": "code",
   "execution_count": 8,
   "id": "7fe6ea85",
   "metadata": {
    "execution": {
     "iopub.execute_input": "2024-01-11T12:48:27.604312Z",
     "iopub.status.busy": "2024-01-11T12:48:27.603464Z",
     "iopub.status.idle": "2024-01-11T12:48:27.620199Z",
     "shell.execute_reply": "2024-01-11T12:48:27.618935Z"
    },
    "papermill": {
     "duration": 0.040892,
     "end_time": "2024-01-11T12:48:27.622715",
     "exception": false,
     "start_time": "2024-01-11T12:48:27.581823",
     "status": "completed"
    },
    "tags": []
   },
   "outputs": [
    {
     "data": {
      "text/plain": [
       "Item_Identifier                 0\n",
       "Item_Weight                  1463\n",
       "Item_Fat_Content                0\n",
       "Item_Visibility                 0\n",
       "Item_Type                       0\n",
       "Item_MRP                        0\n",
       "Outlet_Identifier               0\n",
       "Outlet_Establishment_Year       0\n",
       "Outlet_Size                  2410\n",
       "Outlet_Location_Type            0\n",
       "Outlet_Type                     0\n",
       "Item_Outlet_Sales               0\n",
       "dtype: int64"
      ]
     },
     "execution_count": 8,
     "metadata": {},
     "output_type": "execute_result"
    }
   ],
   "source": [
    "# Checking for missing values\n",
    "df_train.isnull().sum()"
   ]
  },
  {
   "cell_type": "code",
   "execution_count": 9,
   "id": "be7cb0e0",
   "metadata": {
    "execution": {
     "iopub.execute_input": "2024-01-11T12:48:27.663209Z",
     "iopub.status.busy": "2024-01-11T12:48:27.662666Z",
     "iopub.status.idle": "2024-01-11T12:48:27.672019Z",
     "shell.execute_reply": "2024-01-11T12:48:27.670863Z"
    },
    "papermill": {
     "duration": 0.032617,
     "end_time": "2024-01-11T12:48:27.674322",
     "exception": false,
     "start_time": "2024-01-11T12:48:27.641705",
     "status": "completed"
    },
    "tags": []
   },
   "outputs": [
    {
     "data": {
      "text/plain": [
       "12.857645184135976"
      ]
     },
     "execution_count": 9,
     "metadata": {},
     "output_type": "execute_result"
    }
   ],
   "source": [
    "## Handling Missing Values\n",
    "# Calculate Mean of Item_Weight column\n",
    "df_train['Item_Weight'].mean()"
   ]
  },
  {
   "cell_type": "code",
   "execution_count": 10,
   "id": "2e9e2f83",
   "metadata": {
    "execution": {
     "iopub.execute_input": "2024-01-11T12:48:27.716799Z",
     "iopub.status.busy": "2024-01-11T12:48:27.715464Z",
     "iopub.status.idle": "2024-01-11T12:48:27.726129Z",
     "shell.execute_reply": "2024-01-11T12:48:27.724634Z"
    },
    "papermill": {
     "duration": 0.034762,
     "end_time": "2024-01-11T12:48:27.729277",
     "exception": false,
     "start_time": "2024-01-11T12:48:27.694515",
     "status": "completed"
    },
    "tags": []
   },
   "outputs": [],
   "source": [
    "# Fill missing values in Item_Weight column with mean\n",
    "df_train['Item_Weight'].fillna(df_train['Item_Weight'].mean(), inplace=True)"
   ]
  },
  {
   "cell_type": "code",
   "execution_count": 11,
   "id": "9592a806",
   "metadata": {
    "execution": {
     "iopub.execute_input": "2024-01-11T12:48:27.772008Z",
     "iopub.status.busy": "2024-01-11T12:48:27.771489Z",
     "iopub.status.idle": "2024-01-11T12:48:27.789437Z",
     "shell.execute_reply": "2024-01-11T12:48:27.788185Z"
    },
    "papermill": {
     "duration": 0.042181,
     "end_time": "2024-01-11T12:48:27.792548",
     "exception": false,
     "start_time": "2024-01-11T12:48:27.750367",
     "status": "completed"
    },
    "tags": []
   },
   "outputs": [
    {
     "data": {
      "text/plain": [
       "Item_Identifier                 0\n",
       "Item_Weight                     0\n",
       "Item_Fat_Content                0\n",
       "Item_Visibility                 0\n",
       "Item_Type                       0\n",
       "Item_MRP                        0\n",
       "Outlet_Identifier               0\n",
       "Outlet_Establishment_Year       0\n",
       "Outlet_Size                  2410\n",
       "Outlet_Location_Type            0\n",
       "Outlet_Type                     0\n",
       "Item_Outlet_Sales               0\n",
       "dtype: int64"
      ]
     },
     "execution_count": 11,
     "metadata": {},
     "output_type": "execute_result"
    }
   ],
   "source": [
    "# Check for missing values\n",
    "df_train.isnull().sum()"
   ]
  },
  {
   "cell_type": "code",
   "execution_count": 12,
   "id": "7e44ece5",
   "metadata": {
    "execution": {
     "iopub.execute_input": "2024-01-11T12:48:27.938373Z",
     "iopub.status.busy": "2024-01-11T12:48:27.937356Z",
     "iopub.status.idle": "2024-01-11T12:48:27.948648Z",
     "shell.execute_reply": "2024-01-11T12:48:27.947391Z"
    },
    "papermill": {
     "duration": 0.036988,
     "end_time": "2024-01-11T12:48:27.951246",
     "exception": false,
     "start_time": "2024-01-11T12:48:27.914258",
     "status": "completed"
    },
    "tags": []
   },
   "outputs": [
    {
     "data": {
      "text/plain": [
       "Outlet_Size\n",
       "Medium    2793\n",
       "Small     2388\n",
       "High       932\n",
       "Name: count, dtype: int64"
      ]
     },
     "execution_count": 12,
     "metadata": {},
     "output_type": "execute_result"
    }
   ],
   "source": [
    "# Handling Missing Values\n",
    "df_train['Outlet_Size'].value_counts()"
   ]
  },
  {
   "cell_type": "code",
   "execution_count": 13,
   "id": "2ae68899",
   "metadata": {
    "execution": {
     "iopub.execute_input": "2024-01-11T12:48:27.994287Z",
     "iopub.status.busy": "2024-01-11T12:48:27.993856Z",
     "iopub.status.idle": "2024-01-11T12:48:28.012209Z",
     "shell.execute_reply": "2024-01-11T12:48:28.010850Z"
    },
    "papermill": {
     "duration": 0.043851,
     "end_time": "2024-01-11T12:48:28.015263",
     "exception": false,
     "start_time": "2024-01-11T12:48:27.971412",
     "status": "completed"
    },
    "tags": []
   },
   "outputs": [
    {
     "data": {
      "text/plain": [
       "Outlet_Type\n",
       "Grocery Store         Small\n",
       "Supermarket Type1     Small\n",
       "Supermarket Type2    Medium\n",
       "Supermarket Type3    Medium\n",
       "Name: Outlet_Size, dtype: object"
      ]
     },
     "execution_count": 13,
     "metadata": {},
     "output_type": "execute_result"
    }
   ],
   "source": [
    "# Calculate mode of Outlet_Size column for each Outlet_type in Outlet_Size\n",
    "df_train.groupby('Outlet_Type')['Outlet_Size'].agg(pd.Series.mode)"
   ]
  },
  {
   "cell_type": "code",
   "execution_count": 14,
   "id": "ca72f6b4",
   "metadata": {
    "execution": {
     "iopub.execute_input": "2024-01-11T12:48:28.059524Z",
     "iopub.status.busy": "2024-01-11T12:48:28.059113Z",
     "iopub.status.idle": "2024-01-11T12:48:28.076380Z",
     "shell.execute_reply": "2024-01-11T12:48:28.075002Z"
    },
    "papermill": {
     "duration": 0.042189,
     "end_time": "2024-01-11T12:48:28.078978",
     "exception": false,
     "start_time": "2024-01-11T12:48:28.036789",
     "status": "completed"
    },
    "tags": []
   },
   "outputs": [],
   "source": [
    "# Fill missing values in Outlet_size column with mode of Outlet_size column for each Outlet_type in Outlet_size\n",
    "df_train.loc[df_train['Outlet_Type']=='Grocery Store','Outlet_Size']='Small'\n",
    "df_train.loc[df_train['Outlet_Type']=='Supermarket Type1','Outlet_Size']='Small'\n",
    "df_train.loc[df_train['Outlet_Type']=='Supermarket Type2','Outlet_Size']='Medium'\n",
    "df_train.loc[df_train['Outlet_Type']=='Supermarket Type3','Outlet_Size']='Medium'"
   ]
  },
  {
   "cell_type": "code",
   "execution_count": 15,
   "id": "e798eb14",
   "metadata": {
    "execution": {
     "iopub.execute_input": "2024-01-11T12:48:28.126176Z",
     "iopub.status.busy": "2024-01-11T12:48:28.125471Z",
     "iopub.status.idle": "2024-01-11T12:48:28.141473Z",
     "shell.execute_reply": "2024-01-11T12:48:28.140048Z"
    },
    "papermill": {
     "duration": 0.04385,
     "end_time": "2024-01-11T12:48:28.144397",
     "exception": false,
     "start_time": "2024-01-11T12:48:28.100547",
     "status": "completed"
    },
    "tags": []
   },
   "outputs": [
    {
     "data": {
      "text/plain": [
       "Item_Identifier              0\n",
       "Item_Weight                  0\n",
       "Item_Fat_Content             0\n",
       "Item_Visibility              0\n",
       "Item_Type                    0\n",
       "Item_MRP                     0\n",
       "Outlet_Identifier            0\n",
       "Outlet_Establishment_Year    0\n",
       "Outlet_Size                  0\n",
       "Outlet_Location_Type         0\n",
       "Outlet_Type                  0\n",
       "Item_Outlet_Sales            0\n",
       "dtype: int64"
      ]
     },
     "execution_count": 15,
     "metadata": {},
     "output_type": "execute_result"
    }
   ],
   "source": [
    "# Check for missing values\n",
    "df_train.isnull().sum()"
   ]
  },
  {
   "cell_type": "code",
   "execution_count": 16,
   "id": "536c6e3e",
   "metadata": {
    "execution": {
     "iopub.execute_input": "2024-01-11T12:48:28.190942Z",
     "iopub.status.busy": "2024-01-11T12:48:28.190494Z",
     "iopub.status.idle": "2024-01-11T12:48:28.224639Z",
     "shell.execute_reply": "2024-01-11T12:48:28.223718Z"
    },
    "papermill": {
     "duration": 0.061601,
     "end_time": "2024-01-11T12:48:28.227493",
     "exception": false,
     "start_time": "2024-01-11T12:48:28.165892",
     "status": "completed"
    },
    "tags": []
   },
   "outputs": [
    {
     "data": {
      "text/html": [
       "<div>\n",
       "<style scoped>\n",
       "    .dataframe tbody tr th:only-of-type {\n",
       "        vertical-align: middle;\n",
       "    }\n",
       "\n",
       "    .dataframe tbody tr th {\n",
       "        vertical-align: top;\n",
       "    }\n",
       "\n",
       "    .dataframe thead th {\n",
       "        text-align: right;\n",
       "    }\n",
       "</style>\n",
       "<table border=\"1\" class=\"dataframe\">\n",
       "  <thead>\n",
       "    <tr style=\"text-align: right;\">\n",
       "      <th></th>\n",
       "      <th>Item_Weight</th>\n",
       "      <th>Item_Visibility</th>\n",
       "      <th>Item_MRP</th>\n",
       "      <th>Outlet_Establishment_Year</th>\n",
       "      <th>Item_Outlet_Sales</th>\n",
       "    </tr>\n",
       "  </thead>\n",
       "  <tbody>\n",
       "    <tr>\n",
       "      <th>count</th>\n",
       "      <td>8523.000000</td>\n",
       "      <td>8523.000000</td>\n",
       "      <td>8523.000000</td>\n",
       "      <td>8523.000000</td>\n",
       "      <td>8523.000000</td>\n",
       "    </tr>\n",
       "    <tr>\n",
       "      <th>mean</th>\n",
       "      <td>12.857645</td>\n",
       "      <td>0.066132</td>\n",
       "      <td>140.992782</td>\n",
       "      <td>1997.831867</td>\n",
       "      <td>2181.288914</td>\n",
       "    </tr>\n",
       "    <tr>\n",
       "      <th>std</th>\n",
       "      <td>4.226124</td>\n",
       "      <td>0.051598</td>\n",
       "      <td>62.275067</td>\n",
       "      <td>8.371760</td>\n",
       "      <td>1706.499616</td>\n",
       "    </tr>\n",
       "    <tr>\n",
       "      <th>min</th>\n",
       "      <td>4.555000</td>\n",
       "      <td>0.000000</td>\n",
       "      <td>31.290000</td>\n",
       "      <td>1985.000000</td>\n",
       "      <td>33.290000</td>\n",
       "    </tr>\n",
       "    <tr>\n",
       "      <th>25%</th>\n",
       "      <td>9.310000</td>\n",
       "      <td>0.026989</td>\n",
       "      <td>93.826500</td>\n",
       "      <td>1987.000000</td>\n",
       "      <td>834.247400</td>\n",
       "    </tr>\n",
       "    <tr>\n",
       "      <th>50%</th>\n",
       "      <td>12.857645</td>\n",
       "      <td>0.053931</td>\n",
       "      <td>143.012800</td>\n",
       "      <td>1999.000000</td>\n",
       "      <td>1794.331000</td>\n",
       "    </tr>\n",
       "    <tr>\n",
       "      <th>75%</th>\n",
       "      <td>16.000000</td>\n",
       "      <td>0.094585</td>\n",
       "      <td>185.643700</td>\n",
       "      <td>2004.000000</td>\n",
       "      <td>3101.296400</td>\n",
       "    </tr>\n",
       "    <tr>\n",
       "      <th>max</th>\n",
       "      <td>21.350000</td>\n",
       "      <td>0.328391</td>\n",
       "      <td>266.888400</td>\n",
       "      <td>2009.000000</td>\n",
       "      <td>13086.964800</td>\n",
       "    </tr>\n",
       "  </tbody>\n",
       "</table>\n",
       "</div>"
      ],
      "text/plain": [
       "       Item_Weight  Item_Visibility     Item_MRP  Outlet_Establishment_Year  \\\n",
       "count  8523.000000      8523.000000  8523.000000                8523.000000   \n",
       "mean     12.857645         0.066132   140.992782                1997.831867   \n",
       "std       4.226124         0.051598    62.275067                   8.371760   \n",
       "min       4.555000         0.000000    31.290000                1985.000000   \n",
       "25%       9.310000         0.026989    93.826500                1987.000000   \n",
       "50%      12.857645         0.053931   143.012800                1999.000000   \n",
       "75%      16.000000         0.094585   185.643700                2004.000000   \n",
       "max      21.350000         0.328391   266.888400                2009.000000   \n",
       "\n",
       "       Item_Outlet_Sales  \n",
       "count        8523.000000  \n",
       "mean         2181.288914  \n",
       "std          1706.499616  \n",
       "min            33.290000  \n",
       "25%           834.247400  \n",
       "50%          1794.331000  \n",
       "75%          3101.296400  \n",
       "max         13086.964800  "
      ]
     },
     "execution_count": 16,
     "metadata": {},
     "output_type": "execute_result"
    }
   ],
   "source": [
    "## Data Analysis\n",
    "# See descriptive statistics of numerical columns\n",
    "df_train.describe()"
   ]
  },
  {
   "cell_type": "code",
   "execution_count": 17,
   "id": "4f63f6d2",
   "metadata": {
    "execution": {
     "iopub.execute_input": "2024-01-11T12:48:28.275290Z",
     "iopub.status.busy": "2024-01-11T12:48:28.274054Z",
     "iopub.status.idle": "2024-01-11T12:48:28.280816Z",
     "shell.execute_reply": "2024-01-11T12:48:28.279600Z"
    },
    "papermill": {
     "duration": 0.033567,
     "end_time": "2024-01-11T12:48:28.283704",
     "exception": false,
     "start_time": "2024-01-11T12:48:28.250137",
     "status": "completed"
    },
    "tags": []
   },
   "outputs": [],
   "source": [
    "## Data Visulaization of Numerical Features\n",
    "# Applying Seaborn\n",
    "sns.set()"
   ]
  },
  {
   "cell_type": "code",
   "execution_count": 18,
   "id": "c6f6edb5",
   "metadata": {
    "execution": {
     "iopub.execute_input": "2024-01-11T12:48:28.330015Z",
     "iopub.status.busy": "2024-01-11T12:48:28.329496Z",
     "iopub.status.idle": "2024-01-11T12:48:31.393806Z",
     "shell.execute_reply": "2024-01-11T12:48:31.392408Z"
    },
    "papermill": {
     "duration": 3.091168,
     "end_time": "2024-01-11T12:48:31.397059",
     "exception": false,
     "start_time": "2024-01-11T12:48:28.305891",
     "status": "completed"
    },
    "tags": []
   },
   "outputs": [
    {
     "data": {
      "text/plain": [
       "<Figure size 1000x500 with 0 Axes>"
      ]
     },
     "metadata": {},
     "output_type": "display_data"
    },
    {
     "data": {
      "image/png": "[encoded data removed]",
      "text/plain": [
       "<Figure size 500x500 with 1 Axes>"
      ]
     },
     "metadata": {},
     "output_type": "display_data"
    },
    {
     "data": {
      "text/plain": [
       "<Figure size 1000x500 with 0 Axes>"
      ]
     },
     "metadata": {},
     "output_type": "display_data"
    },
    {
     "data": {
      "image/png": "[encoded data removed]",
      "text/plain": [
       "<Figure size 500x500 with 1 Axes>"
      ]
     },
     "metadata": {},
     "output_type": "display_data"
    },
    {
     "data": {
      "text/plain": [
       "<Figure size 1000x500 with 0 Axes>"
      ]
     },
     "metadata": {},
     "output_type": "display_data"
    },
    {
     "data": {
      "image/png": "[encoded data removed]",
      "text/plain": [
       "<Figure size 500x500 with 1 Axes>"
      ]
     },
     "metadata": {},
     "output_type": "display_data"
    },
    {
     "data": {
      "text/plain": [
       "<Figure size 1000x500 with 0 Axes>"
      ]
     },
     "metadata": {},
     "output_type": "display_data"
    },
    {
     "data": {
      "image/png": "[encoded data removed]",
      "text/plain": [
       "<Figure size 500x500 with 1 Axes>"
      ]
     },
     "metadata": {},
     "output_type": "display_data"
    }
   ],
   "source": [
    "# Plot desplot for numerical columns\n",
    "cols = ['Item_Weight', 'Item_Visibility', 'Item_MRP', 'Item_Outlet_Sales']\n",
    "for col in cols:\n",
    "    plt.figure(figsize=(10, 5))\n",
    "    sns.displot(df_train[col])\n",
    "    plt.show()"
   ]
  },
  {
   "cell_type": "code",
   "execution_count": 19,
   "id": "bbac64ef",
   "metadata": {
    "execution": {
     "iopub.execute_input": "2024-01-11T12:48:31.449225Z",
     "iopub.status.busy": "2024-01-11T12:48:31.448299Z",
     "iopub.status.idle": "2024-01-11T12:48:31.821365Z",
     "shell.execute_reply": "2024-01-11T12:48:31.820038Z"
    },
    "papermill": {
     "duration": 0.402281,
     "end_time": "2024-01-11T12:48:31.824652",
     "exception": false,
     "start_time": "2024-01-11T12:48:31.422371",
     "status": "completed"
    },
    "tags": []
   },
   "outputs": [
    {
     "data": {
      "image/png": "[encoded data removed]",
      "text/plain": [
       "<Figure size 1000x500 with 1 Axes>"
      ]
     },
     "metadata": {},
     "output_type": "display_data"
    }
   ],
   "source": [
    "# Plot countplot for Outlet_Establishment_Year column\n",
    "plt.figure(figsize=(10, 5))\n",
    "sns.countplot(x='Outlet_Establishment_Year', data=df_train)\n",
    "plt.show()"
   ]
  },
  {
   "cell_type": "code",
   "execution_count": 20,
   "id": "bbe62c71",
   "metadata": {
    "execution": {
     "iopub.execute_input": "2024-01-11T12:48:31.876858Z",
     "iopub.status.busy": "2024-01-11T12:48:31.876464Z",
     "iopub.status.idle": "2024-01-11T12:48:32.197575Z",
     "shell.execute_reply": "2024-01-11T12:48:32.196153Z"
    },
    "papermill": {
     "duration": 0.351421,
     "end_time": "2024-01-11T12:48:32.200743",
     "exception": false,
     "start_time": "2024-01-11T12:48:31.849322",
     "status": "completed"
    },
    "tags": []
   },
   "outputs": [
    {
     "data": {
      "image/png": "[encoded data removed]",
      "text/plain": [
       "<Figure size 1000x500 with 1 Axes>"
      ]
     },
     "metadata": {},
     "output_type": "display_data"
    }
   ],
   "source": [
    "## Categorical Features\n",
    "# Plot countplot for Item_Fat_Content column\n",
    "plt.figure(figsize=(10, 5))\n",
    "sns.countplot(x=\"Item_Fat_Content\", data=df_train)\n",
    "plt.show()"
   ]
  },
  {
   "cell_type": "code",
   "execution_count": 21,
   "id": "6bd53d6f",
   "metadata": {
    "execution": {
     "iopub.execute_input": "2024-01-11T12:48:32.252456Z",
     "iopub.status.busy": "2024-01-11T12:48:32.251945Z",
     "iopub.status.idle": "2024-01-11T12:48:32.912903Z",
     "shell.execute_reply": "2024-01-11T12:48:32.908969Z"
    },
    "papermill": {
     "duration": 0.690689,
     "end_time": "2024-01-11T12:48:32.916268",
     "exception": false,
     "start_time": "2024-01-11T12:48:32.225579",
     "status": "completed"
    },
    "tags": []
   },
   "outputs": [
    {
     "data": {
      "image/png": "[encoded data removed]",
      "text/plain": [
       "<Figure size 3000x1000 with 1 Axes>"
      ]
     },
     "metadata": {},
     "output_type": "display_data"
    }
   ],
   "source": [
    "# Plot countplot for Item_Type column\n",
    "plt.figure(figsize=(30, 10))\n",
    "sns.countplot(x=\"Item_Type\", data=df_train)\n",
    "plt.show()"
   ]
  },
  {
   "cell_type": "code",
   "execution_count": 22,
   "id": "5a338dea",
   "metadata": {
    "execution": {
     "iopub.execute_input": "2024-01-11T12:48:32.974007Z",
     "iopub.status.busy": "2024-01-11T12:48:32.973479Z",
     "iopub.status.idle": "2024-01-11T12:48:33.237712Z",
     "shell.execute_reply": "2024-01-11T12:48:33.236522Z"
    },
    "papermill": {
     "duration": 0.295097,
     "end_time": "2024-01-11T12:48:33.240274",
     "exception": false,
     "start_time": "2024-01-11T12:48:32.945177",
     "status": "completed"
    },
    "tags": []
   },
   "outputs": [
    {
     "data": {
      "image/png": "[encoded data removed]",
      "text/plain": [
       "<Figure size 1000x500 with 1 Axes>"
      ]
     },
     "metadata": {},
     "output_type": "display_data"
    }
   ],
   "source": [
    "# Plot countplot for Outlet_Size column\n",
    "plt.figure(figsize=(10, 5))\n",
    "sns.countplot(x=\"Outlet_Size\", data=df_train)\n",
    "plt.show()"
   ]
  },
  {
   "cell_type": "code",
   "execution_count": 23,
   "id": "ad2fb112",
   "metadata": {
    "execution": {
     "iopub.execute_input": "2024-01-11T12:48:33.295054Z",
     "iopub.status.busy": "2024-01-11T12:48:33.294110Z",
     "iopub.status.idle": "2024-01-11T12:48:33.580424Z",
     "shell.execute_reply": "2024-01-11T12:48:33.579296Z"
    },
    "papermill": {
     "duration": 0.317011,
     "end_time": "2024-01-11T12:48:33.583122",
     "exception": false,
     "start_time": "2024-01-11T12:48:33.266111",
     "status": "completed"
    },
    "tags": []
   },
   "outputs": [
    {
     "data": {
      "image/png": "[encoded data removed]",
      "text/plain": [
       "<Figure size 1000x500 with 1 Axes>"
      ]
     },
     "metadata": {},
     "output_type": "display_data"
    }
   ],
   "source": [
    "# Plot countplot for Outlet_Location_Type column\n",
    "plt.figure(figsize=(10, 5))\n",
    "sns.countplot(x=\"Outlet_Location_Type\", data=df_train)\n",
    "plt.show()"
   ]
  },
  {
   "cell_type": "code",
   "execution_count": 24,
   "id": "cef0510f",
   "metadata": {
    "execution": {
     "iopub.execute_input": "2024-01-11T12:48:33.636066Z",
     "iopub.status.busy": "2024-01-11T12:48:33.635262Z",
     "iopub.status.idle": "2024-01-11T12:48:33.925291Z",
     "shell.execute_reply": "2024-01-11T12:48:33.924058Z"
    },
    "papermill": {
     "duration": 0.319571,
     "end_time": "2024-01-11T12:48:33.928290",
     "exception": false,
     "start_time": "2024-01-11T12:48:33.608719",
     "status": "completed"
    },
    "tags": []
   },
   "outputs": [
    {
     "data": {
      "image/png": "[encoded data removed]",
      "text/plain": [
       "<Figure size 1000x500 with 1 Axes>"
      ]
     },
     "metadata": {},
     "output_type": "display_data"
    }
   ],
   "source": [
    "# Plot countplot for Outlet_Type column\n",
    "plt.figure(figsize=(10, 5))\n",
    "sns.countplot(x=\"Outlet_Type\", data=df_train)\n",
    "plt.show()"
   ]
  },
  {
   "cell_type": "code",
   "execution_count": 25,
   "id": "591a145c",
   "metadata": {
    "execution": {
     "iopub.execute_input": "2024-01-11T12:48:33.981238Z",
     "iopub.status.busy": "2024-01-11T12:48:33.980461Z",
     "iopub.status.idle": "2024-01-11T12:48:33.992359Z",
     "shell.execute_reply": "2024-01-11T12:48:33.991104Z"
    },
    "papermill": {
     "duration": 0.041139,
     "end_time": "2024-01-11T12:48:33.994731",
     "exception": false,
     "start_time": "2024-01-11T12:48:33.953592",
     "status": "completed"
    },
    "tags": []
   },
   "outputs": [
    {
     "data": {
      "text/plain": [
       "Item_Fat_Content\n",
       "Low Fat    5089\n",
       "Regular    2889\n",
       "LF          316\n",
       "reg         117\n",
       "low fat     112\n",
       "Name: count, dtype: int64"
      ]
     },
     "execution_count": 25,
     "metadata": {},
     "output_type": "execute_result"
    }
   ],
   "source": [
    "# Data Preprocessing\n",
    "# See categories in Item_Fat_Content column\n",
    "df_train['Item_Fat_Content'].value_counts()"
   ]
  },
  {
   "cell_type": "code",
   "execution_count": 26,
   "id": "5377578b",
   "metadata": {
    "execution": {
     "iopub.execute_input": "2024-01-11T12:48:34.048747Z",
     "iopub.status.busy": "2024-01-11T12:48:34.048264Z",
     "iopub.status.idle": "2024-01-11T12:48:34.058886Z",
     "shell.execute_reply": "2024-01-11T12:48:34.057345Z"
    },
    "papermill": {
     "duration": 0.041092,
     "end_time": "2024-01-11T12:48:34.061805",
     "exception": false,
     "start_time": "2024-01-11T12:48:34.020713",
     "status": "completed"
    },
    "tags": []
   },
   "outputs": [],
   "source": [
    "# Handle Item_Fat_Content column categories with replacement\n",
    "df_train['Item_Fat_Content'].replace({'LF':'Low Fat','reg':'Regular','low fat':'Low Fat'}, inplace=True)"
   ]
  },
  {
   "cell_type": "code",
   "execution_count": 27,
   "id": "dccca476",
   "metadata": {
    "execution": {
     "iopub.execute_input": "2024-01-11T12:48:34.120013Z",
     "iopub.status.busy": "2024-01-11T12:48:34.118534Z",
     "iopub.status.idle": "2024-01-11T12:48:34.130387Z",
     "shell.execute_reply": "2024-01-11T12:48:34.129161Z"
    },
    "papermill": {
     "duration": 0.043644,
     "end_time": "2024-01-11T12:48:34.133013",
     "exception": false,
     "start_time": "2024-01-11T12:48:34.089369",
     "status": "completed"
    },
    "tags": []
   },
   "outputs": [
    {
     "data": {
      "text/plain": [
       "Item_Fat_Content\n",
       "Low Fat    5517\n",
       "Regular    3006\n",
       "Name: count, dtype: int64"
      ]
     },
     "execution_count": 27,
     "metadata": {},
     "output_type": "execute_result"
    }
   ],
   "source": [
    "# See categories in Item_Fat_Content column\n",
    "df_train['Item_Fat_Content'].value_counts()"
   ]
  },
  {
   "cell_type": "code",
   "execution_count": 28,
   "id": "feea4812",
   "metadata": {
    "execution": {
     "iopub.execute_input": "2024-01-11T12:48:34.189689Z",
     "iopub.status.busy": "2024-01-11T12:48:34.189276Z",
     "iopub.status.idle": "2024-01-11T12:48:34.220113Z",
     "shell.execute_reply": "2024-01-11T12:48:34.219256Z"
    },
    "papermill": {
     "duration": 0.063129,
     "end_time": "2024-01-11T12:48:34.223165",
     "exception": false,
     "start_time": "2024-01-11T12:48:34.160036",
     "status": "completed"
    },
    "tags": []
   },
   "outputs": [],
   "source": [
    "# Handling Categorical Features\n",
    "# Apply label encoding on categorical columns\n",
    "le = LabelEncoder()\n",
    "\n",
    "df_train['Item_Fat_Content'] = le.fit_transform(df_train['Item_Fat_Content'])\n",
    "\n",
    "df_train['Item_Type'] = le.fit_transform(df_train['Item_Type'])\n",
    "\n",
    "df_train['Outlet_Size'] = le.fit_transform(df_train['Outlet_Size'])\n",
    "\n",
    "df_train['Outlet_Location_Type'] = le.fit_transform(df_train['Outlet_Location_Type'])\n",
    "\n",
    "df_train['Outlet_Type'] = le.fit_transform(df_train['Outlet_Type'])\n",
    "\n",
    "df_train['Item_Identifier'] = le.fit_transform(df_train['Item_Identifier'])\n",
    "\n",
    "df_train['Outlet_Identifier'] = le.fit_transform(df_train['Outlet_Identifier'])"
   ]
  },
  {
   "cell_type": "code",
   "execution_count": 29,
   "id": "cc7176e6",
   "metadata": {
    "execution": {
     "iopub.execute_input": "2024-01-11T12:48:34.280252Z",
     "iopub.status.busy": "2024-01-11T12:48:34.279537Z",
     "iopub.status.idle": "2024-01-11T12:48:34.298282Z",
     "shell.execute_reply": "2024-01-11T12:48:34.297166Z"
    },
    "papermill": {
     "duration": 0.05096,
     "end_time": "2024-01-11T12:48:34.301231",
     "exception": false,
     "start_time": "2024-01-11T12:48:34.250271",
     "status": "completed"
    },
    "tags": []
   },
   "outputs": [
    {
     "data": {
      "text/html": [
       "<div>\n",
       "<style scoped>\n",
       "    .dataframe tbody tr th:only-of-type {\n",
       "        vertical-align: middle;\n",
       "    }\n",
       "\n",
       "    .dataframe tbody tr th {\n",
       "        vertical-align: top;\n",
       "    }\n",
       "\n",
       "    .dataframe thead th {\n",
       "        text-align: right;\n",
       "    }\n",
       "</style>\n",
       "<table border=\"1\" class=\"dataframe\">\n",
       "  <thead>\n",
       "    <tr style=\"text-align: right;\">\n",
       "      <th></th>\n",
       "      <th>Item_Identifier</th>\n",
       "      <th>Item_Weight</th>\n",
       "      <th>Item_Fat_Content</th>\n",
       "      <th>Item_Visibility</th>\n",
       "      <th>Item_Type</th>\n",
       "      <th>Item_MRP</th>\n",
       "      <th>Outlet_Identifier</th>\n",
       "      <th>Outlet_Establishment_Year</th>\n",
       "      <th>Outlet_Size</th>\n",
       "      <th>Outlet_Location_Type</th>\n",
       "      <th>Outlet_Type</th>\n",
       "      <th>Item_Outlet_Sales</th>\n",
       "    </tr>\n",
       "  </thead>\n",
       "  <tbody>\n",
       "    <tr>\n",
       "      <th>0</th>\n",
       "      <td>156</td>\n",
       "      <td>9.300000</td>\n",
       "      <td>0</td>\n",
       "      <td>0.016047</td>\n",
       "      <td>4</td>\n",
       "      <td>249.8092</td>\n",
       "      <td>9</td>\n",
       "      <td>1999</td>\n",
       "      <td>1</td>\n",
       "      <td>0</td>\n",
       "      <td>1</td>\n",
       "      <td>3735.1380</td>\n",
       "    </tr>\n",
       "    <tr>\n",
       "      <th>1</th>\n",
       "      <td>8</td>\n",
       "      <td>5.920000</td>\n",
       "      <td>1</td>\n",
       "      <td>0.019278</td>\n",
       "      <td>14</td>\n",
       "      <td>48.2692</td>\n",
       "      <td>3</td>\n",
       "      <td>2009</td>\n",
       "      <td>0</td>\n",
       "      <td>2</td>\n",
       "      <td>2</td>\n",
       "      <td>443.4228</td>\n",
       "    </tr>\n",
       "    <tr>\n",
       "      <th>2</th>\n",
       "      <td>662</td>\n",
       "      <td>17.500000</td>\n",
       "      <td>0</td>\n",
       "      <td>0.016760</td>\n",
       "      <td>10</td>\n",
       "      <td>141.6180</td>\n",
       "      <td>9</td>\n",
       "      <td>1999</td>\n",
       "      <td>1</td>\n",
       "      <td>0</td>\n",
       "      <td>1</td>\n",
       "      <td>2097.2700</td>\n",
       "    </tr>\n",
       "    <tr>\n",
       "      <th>3</th>\n",
       "      <td>1121</td>\n",
       "      <td>19.200000</td>\n",
       "      <td>1</td>\n",
       "      <td>0.000000</td>\n",
       "      <td>6</td>\n",
       "      <td>182.0950</td>\n",
       "      <td>0</td>\n",
       "      <td>1998</td>\n",
       "      <td>1</td>\n",
       "      <td>2</td>\n",
       "      <td>0</td>\n",
       "      <td>732.3800</td>\n",
       "    </tr>\n",
       "    <tr>\n",
       "      <th>4</th>\n",
       "      <td>1297</td>\n",
       "      <td>8.930000</td>\n",
       "      <td>0</td>\n",
       "      <td>0.000000</td>\n",
       "      <td>9</td>\n",
       "      <td>53.8614</td>\n",
       "      <td>1</td>\n",
       "      <td>1987</td>\n",
       "      <td>1</td>\n",
       "      <td>2</td>\n",
       "      <td>1</td>\n",
       "      <td>994.7052</td>\n",
       "    </tr>\n",
       "    <tr>\n",
       "      <th>5</th>\n",
       "      <td>758</td>\n",
       "      <td>10.395000</td>\n",
       "      <td>1</td>\n",
       "      <td>0.000000</td>\n",
       "      <td>0</td>\n",
       "      <td>51.4008</td>\n",
       "      <td>3</td>\n",
       "      <td>2009</td>\n",
       "      <td>0</td>\n",
       "      <td>2</td>\n",
       "      <td>2</td>\n",
       "      <td>556.6088</td>\n",
       "    </tr>\n",
       "    <tr>\n",
       "      <th>6</th>\n",
       "      <td>696</td>\n",
       "      <td>13.650000</td>\n",
       "      <td>1</td>\n",
       "      <td>0.012741</td>\n",
       "      <td>13</td>\n",
       "      <td>57.6588</td>\n",
       "      <td>1</td>\n",
       "      <td>1987</td>\n",
       "      <td>1</td>\n",
       "      <td>2</td>\n",
       "      <td>1</td>\n",
       "      <td>343.5528</td>\n",
       "    </tr>\n",
       "    <tr>\n",
       "      <th>7</th>\n",
       "      <td>738</td>\n",
       "      <td>12.857645</td>\n",
       "      <td>0</td>\n",
       "      <td>0.127470</td>\n",
       "      <td>13</td>\n",
       "      <td>107.7622</td>\n",
       "      <td>5</td>\n",
       "      <td>1985</td>\n",
       "      <td>0</td>\n",
       "      <td>2</td>\n",
       "      <td>3</td>\n",
       "      <td>4022.7636</td>\n",
       "    </tr>\n",
       "    <tr>\n",
       "      <th>8</th>\n",
       "      <td>440</td>\n",
       "      <td>16.200000</td>\n",
       "      <td>1</td>\n",
       "      <td>0.016687</td>\n",
       "      <td>5</td>\n",
       "      <td>96.9726</td>\n",
       "      <td>7</td>\n",
       "      <td>2002</td>\n",
       "      <td>1</td>\n",
       "      <td>1</td>\n",
       "      <td>1</td>\n",
       "      <td>1076.5986</td>\n",
       "    </tr>\n",
       "    <tr>\n",
       "      <th>9</th>\n",
       "      <td>990</td>\n",
       "      <td>19.200000</td>\n",
       "      <td>1</td>\n",
       "      <td>0.094450</td>\n",
       "      <td>5</td>\n",
       "      <td>187.8214</td>\n",
       "      <td>2</td>\n",
       "      <td>2007</td>\n",
       "      <td>1</td>\n",
       "      <td>1</td>\n",
       "      <td>1</td>\n",
       "      <td>4710.5350</td>\n",
       "    </tr>\n",
       "  </tbody>\n",
       "</table>\n",
       "</div>"
      ],
      "text/plain": [
       "   Item_Identifier  Item_Weight  Item_Fat_Content  Item_Visibility  Item_Type  \\\n",
       "0              156     9.300000                 0         0.016047          4   \n",
       "1                8     5.920000                 1         0.019278         14   \n",
       "2              662    17.500000                 0         0.016760         10   \n",
       "3             1121    19.200000                 1         0.000000          6   \n",
       "4             1297     8.930000                 0         0.000000          9   \n",
       "5              758    10.395000                 1         0.000000          0   \n",
       "6              696    13.650000                 1         0.012741         13   \n",
       "7              738    12.857645                 0         0.127470         13   \n",
       "8              440    16.200000                 1         0.016687          5   \n",
       "9              990    19.200000                 1         0.094450          5   \n",
       "\n",
       "   Item_MRP  Outlet_Identifier  Outlet_Establishment_Year  Outlet_Size  \\\n",
       "0  249.8092                  9                       1999            1   \n",
       "1   48.2692                  3                       2009            0   \n",
       "2  141.6180                  9                       1999            1   \n",
       "3  182.0950                  0                       1998            1   \n",
       "4   53.8614                  1                       1987            1   \n",
       "5   51.4008                  3                       2009            0   \n",
       "6   57.6588                  1                       1987            1   \n",
       "7  107.7622                  5                       1985            0   \n",
       "8   96.9726                  7                       2002            1   \n",
       "9  187.8214                  2                       2007            1   \n",
       "\n",
       "   Outlet_Location_Type  Outlet_Type  Item_Outlet_Sales  \n",
       "0                     0            1          3735.1380  \n",
       "1                     2            2           443.4228  \n",
       "2                     0            1          2097.2700  \n",
       "3                     2            0           732.3800  \n",
       "4                     2            1           994.7052  \n",
       "5                     2            2           556.6088  \n",
       "6                     2            1           343.5528  \n",
       "7                     2            3          4022.7636  \n",
       "8                     1            1          1076.5986  \n",
       "9                     1            1          4710.5350  "
      ]
     },
     "execution_count": 29,
     "metadata": {},
     "output_type": "execute_result"
    }
   ],
   "source": [
    "df_train.head(10)"
   ]
  },
  {
   "cell_type": "code",
   "execution_count": 30,
   "id": "a9906e80",
   "metadata": {
    "execution": {
     "iopub.execute_input": "2024-01-11T12:48:34.356763Z",
     "iopub.status.busy": "2024-01-11T12:48:34.356350Z",
     "iopub.status.idle": "2024-01-11T12:48:34.373142Z",
     "shell.execute_reply": "2024-01-11T12:48:34.370803Z"
    },
    "papermill": {
     "duration": 0.047865,
     "end_time": "2024-01-11T12:48:34.375613",
     "exception": false,
     "start_time": "2024-01-11T12:48:34.327748",
     "status": "completed"
    },
    "tags": []
   },
   "outputs": [
    {
     "name": "stdout",
     "output_type": "stream",
     "text": [
      "<class 'pandas.core.frame.DataFrame'>\n",
      "RangeIndex: 8523 entries, 0 to 8522\n",
      "Data columns (total 12 columns):\n",
      " #   Column                     Non-Null Count  Dtype  \n",
      "---  ------                     --------------  -----  \n",
      " 0   Item_Identifier            8523 non-null   int64  \n",
      " 1   Item_Weight                8523 non-null   float64\n",
      " 2   Item_Fat_Content           8523 non-null   int64  \n",
      " 3   Item_Visibility            8523 non-null   float64\n",
      " 4   Item_Type                  8523 non-null   int64  \n",
      " 5   Item_MRP                   8523 non-null   float64\n",
      " 6   Outlet_Identifier          8523 non-null   int64  \n",
      " 7   Outlet_Establishment_Year  8523 non-null   int64  \n",
      " 8   Outlet_Size                8523 non-null   int64  \n",
      " 9   Outlet_Location_Type       8523 non-null   int64  \n",
      " 10  Outlet_Type                8523 non-null   int64  \n",
      " 11  Item_Outlet_Sales          8523 non-null   float64\n",
      "dtypes: float64(4), int64(8)\n",
      "memory usage: 799.2 KB\n"
     ]
    }
   ],
   "source": [
    "df_train.info()"
   ]
  },
  {
   "cell_type": "code",
   "execution_count": 31,
   "id": "f01688b1",
   "metadata": {
    "execution": {
     "iopub.execute_input": "2024-01-11T12:48:34.431673Z",
     "iopub.status.busy": "2024-01-11T12:48:34.430020Z",
     "iopub.status.idle": "2024-01-11T12:48:34.460246Z",
     "shell.execute_reply": "2024-01-11T12:48:34.458783Z"
    },
    "papermill": {
     "duration": 0.060997,
     "end_time": "2024-01-11T12:48:34.462971",
     "exception": false,
     "start_time": "2024-01-11T12:48:34.401974",
     "status": "completed"
    },
    "tags": []
   },
   "outputs": [
    {
     "data": {
      "text/html": [
       "<div>\n",
       "<style scoped>\n",
       "    .dataframe tbody tr th:only-of-type {\n",
       "        vertical-align: middle;\n",
       "    }\n",
       "\n",
       "    .dataframe tbody tr th {\n",
       "        vertical-align: top;\n",
       "    }\n",
       "\n",
       "    .dataframe thead th {\n",
       "        text-align: right;\n",
       "    }\n",
       "</style>\n",
       "<table border=\"1\" class=\"dataframe\">\n",
       "  <thead>\n",
       "    <tr style=\"text-align: right;\">\n",
       "      <th></th>\n",
       "      <th>Item_Identifier</th>\n",
       "      <th>Item_Weight</th>\n",
       "      <th>Item_Fat_Content</th>\n",
       "      <th>Item_Visibility</th>\n",
       "      <th>Item_Type</th>\n",
       "      <th>Item_MRP</th>\n",
       "      <th>Outlet_Identifier</th>\n",
       "      <th>Outlet_Establishment_Year</th>\n",
       "      <th>Outlet_Size</th>\n",
       "      <th>Outlet_Location_Type</th>\n",
       "      <th>Outlet_Type</th>\n",
       "      <th>Item_Outlet_Sales</th>\n",
       "    </tr>\n",
       "  </thead>\n",
       "  <tbody>\n",
       "    <tr>\n",
       "      <th>0</th>\n",
       "      <td>156</td>\n",
       "      <td>-0.841872</td>\n",
       "      <td>0</td>\n",
       "      <td>-0.970732</td>\n",
       "      <td>4</td>\n",
       "      <td>1.747454</td>\n",
       "      <td>9</td>\n",
       "      <td>1999</td>\n",
       "      <td>1</td>\n",
       "      <td>0</td>\n",
       "      <td>1</td>\n",
       "      <td>0.910601</td>\n",
       "    </tr>\n",
       "    <tr>\n",
       "      <th>1</th>\n",
       "      <td>8</td>\n",
       "      <td>-1.641706</td>\n",
       "      <td>1</td>\n",
       "      <td>-0.908111</td>\n",
       "      <td>14</td>\n",
       "      <td>-1.489023</td>\n",
       "      <td>3</td>\n",
       "      <td>2009</td>\n",
       "      <td>0</td>\n",
       "      <td>2</td>\n",
       "      <td>2</td>\n",
       "      <td>-1.018440</td>\n",
       "    </tr>\n",
       "    <tr>\n",
       "      <th>2</th>\n",
       "      <td>662</td>\n",
       "      <td>1.098554</td>\n",
       "      <td>0</td>\n",
       "      <td>-0.956917</td>\n",
       "      <td>10</td>\n",
       "      <td>0.010040</td>\n",
       "      <td>9</td>\n",
       "      <td>1999</td>\n",
       "      <td>1</td>\n",
       "      <td>0</td>\n",
       "      <td>1</td>\n",
       "      <td>-0.049238</td>\n",
       "    </tr>\n",
       "    <tr>\n",
       "      <th>3</th>\n",
       "      <td>1121</td>\n",
       "      <td>1.500838</td>\n",
       "      <td>1</td>\n",
       "      <td>-1.281758</td>\n",
       "      <td>6</td>\n",
       "      <td>0.660050</td>\n",
       "      <td>0</td>\n",
       "      <td>1998</td>\n",
       "      <td>1</td>\n",
       "      <td>2</td>\n",
       "      <td>0</td>\n",
       "      <td>-0.849103</td>\n",
       "    </tr>\n",
       "    <tr>\n",
       "      <th>4</th>\n",
       "      <td>1297</td>\n",
       "      <td>-0.929428</td>\n",
       "      <td>0</td>\n",
       "      <td>-1.281758</td>\n",
       "      <td>9</td>\n",
       "      <td>-1.399220</td>\n",
       "      <td>1</td>\n",
       "      <td>1987</td>\n",
       "      <td>1</td>\n",
       "      <td>2</td>\n",
       "      <td>1</td>\n",
       "      <td>-0.695373</td>\n",
       "    </tr>\n",
       "    <tr>\n",
       "      <th>5</th>\n",
       "      <td>758</td>\n",
       "      <td>-0.582754</td>\n",
       "      <td>1</td>\n",
       "      <td>-1.281758</td>\n",
       "      <td>0</td>\n",
       "      <td>-1.438734</td>\n",
       "      <td>3</td>\n",
       "      <td>2009</td>\n",
       "      <td>0</td>\n",
       "      <td>2</td>\n",
       "      <td>2</td>\n",
       "      <td>-0.952110</td>\n",
       "    </tr>\n",
       "    <tr>\n",
       "      <th>6</th>\n",
       "      <td>696</td>\n",
       "      <td>0.187501</td>\n",
       "      <td>1</td>\n",
       "      <td>-1.034813</td>\n",
       "      <td>13</td>\n",
       "      <td>-1.338238</td>\n",
       "      <td>1</td>\n",
       "      <td>1987</td>\n",
       "      <td>1</td>\n",
       "      <td>2</td>\n",
       "      <td>1</td>\n",
       "      <td>-1.076967</td>\n",
       "    </tr>\n",
       "    <tr>\n",
       "      <th>7</th>\n",
       "      <td>738</td>\n",
       "      <td>0.000000</td>\n",
       "      <td>0</td>\n",
       "      <td>1.188838</td>\n",
       "      <td>13</td>\n",
       "      <td>-0.533641</td>\n",
       "      <td>5</td>\n",
       "      <td>1985</td>\n",
       "      <td>0</td>\n",
       "      <td>2</td>\n",
       "      <td>3</td>\n",
       "      <td>1.079158</td>\n",
       "    </tr>\n",
       "    <tr>\n",
       "      <th>8</th>\n",
       "      <td>440</td>\n",
       "      <td>0.790926</td>\n",
       "      <td>1</td>\n",
       "      <td>-0.958331</td>\n",
       "      <td>5</td>\n",
       "      <td>-0.706908</td>\n",
       "      <td>7</td>\n",
       "      <td>2002</td>\n",
       "      <td>1</td>\n",
       "      <td>1</td>\n",
       "      <td>1</td>\n",
       "      <td>-0.647381</td>\n",
       "    </tr>\n",
       "    <tr>\n",
       "      <th>9</th>\n",
       "      <td>990</td>\n",
       "      <td>1.500838</td>\n",
       "      <td>1</td>\n",
       "      <td>0.548845</td>\n",
       "      <td>5</td>\n",
       "      <td>0.752008</td>\n",
       "      <td>2</td>\n",
       "      <td>2007</td>\n",
       "      <td>1</td>\n",
       "      <td>1</td>\n",
       "      <td>1</td>\n",
       "      <td>1.482212</td>\n",
       "    </tr>\n",
       "  </tbody>\n",
       "</table>\n",
       "</div>"
      ],
      "text/plain": [
       "   Item_Identifier  Item_Weight  Item_Fat_Content  Item_Visibility  Item_Type  \\\n",
       "0              156    -0.841872                 0        -0.970732          4   \n",
       "1                8    -1.641706                 1        -0.908111         14   \n",
       "2              662     1.098554                 0        -0.956917         10   \n",
       "3             1121     1.500838                 1        -1.281758          6   \n",
       "4             1297    -0.929428                 0        -1.281758          9   \n",
       "5              758    -0.582754                 1        -1.281758          0   \n",
       "6              696     0.187501                 1        -1.034813         13   \n",
       "7              738     0.000000                 0         1.188838         13   \n",
       "8              440     0.790926                 1        -0.958331          5   \n",
       "9              990     1.500838                 1         0.548845          5   \n",
       "\n",
       "   Item_MRP  Outlet_Identifier  Outlet_Establishment_Year  Outlet_Size  \\\n",
       "0  1.747454                  9                       1999            1   \n",
       "1 -1.489023                  3                       2009            0   \n",
       "2  0.010040                  9                       1999            1   \n",
       "3  0.660050                  0                       1998            1   \n",
       "4 -1.399220                  1                       1987            1   \n",
       "5 -1.438734                  3                       2009            0   \n",
       "6 -1.338238                  1                       1987            1   \n",
       "7 -0.533641                  5                       1985            0   \n",
       "8 -0.706908                  7                       2002            1   \n",
       "9  0.752008                  2                       2007            1   \n",
       "\n",
       "   Outlet_Location_Type  Outlet_Type  Item_Outlet_Sales  \n",
       "0                     0            1           0.910601  \n",
       "1                     2            2          -1.018440  \n",
       "2                     0            1          -0.049238  \n",
       "3                     2            0          -0.849103  \n",
       "4                     2            1          -0.695373  \n",
       "5                     2            2          -0.952110  \n",
       "6                     2            1          -1.076967  \n",
       "7                     2            3           1.079158  \n",
       "8                     1            1          -0.647381  \n",
       "9                     1            1           1.482212  "
      ]
     },
     "execution_count": 31,
     "metadata": {},
     "output_type": "execute_result"
    }
   ],
   "source": [
    "# Data Scaling using StandardScaler\n",
    "\n",
    "sc = StandardScaler()\n",
    "\n",
    "df_train['Item_Weight'] = sc.fit_transform(df_train['Item_Weight'].values.reshape(-1,1))\n",
    "\n",
    "df_train['Item_Visibility'] = sc.fit_transform(df_train['Item_Visibility'].values.reshape(-1,1))\n",
    "\n",
    "df_train['Item_MRP'] = sc.fit_transform(df_train['Item_MRP'].values.reshape(-1,1))\n",
    "\n",
    "df_train['Item_Outlet_Sales'] = sc.fit_transform(df_train['Item_Outlet_Sales'].values.reshape(-1,1))\n",
    "\n",
    "df_train.head(10)"
   ]
  },
  {
   "cell_type": "code",
   "execution_count": 32,
   "id": "bcf3bbe9",
   "metadata": {
    "execution": {
     "iopub.execute_input": "2024-01-11T12:48:34.521936Z",
     "iopub.status.busy": "2024-01-11T12:48:34.521314Z",
     "iopub.status.idle": "2024-01-11T12:48:34.528614Z",
     "shell.execute_reply": "2024-01-11T12:48:34.527435Z"
    },
    "papermill": {
     "duration": 0.039793,
     "end_time": "2024-01-11T12:48:34.531142",
     "exception": false,
     "start_time": "2024-01-11T12:48:34.491349",
     "status": "completed"
    },
    "tags": []
   },
   "outputs": [],
   "source": [
    "## Separate features from label\n",
    "# Separate features and target\n",
    "\n",
    "Features = df_train.drop(columns = ['Item_Outlet_Sales'])\n",
    "\n",
    "Target = df_train['Item_Outlet_Sales']"
   ]
  },
  {
   "cell_type": "code",
   "execution_count": 33,
   "id": "efdba3bc",
   "metadata": {
    "execution": {
     "iopub.execute_input": "2024-01-11T12:48:34.587347Z",
     "iopub.status.busy": "2024-01-11T12:48:34.586917Z",
     "iopub.status.idle": "2024-01-11T12:48:34.609798Z",
     "shell.execute_reply": "2024-01-11T12:48:34.608365Z"
    },
    "papermill": {
     "duration": 0.05477,
     "end_time": "2024-01-11T12:48:34.612581",
     "exception": false,
     "start_time": "2024-01-11T12:48:34.557811",
     "status": "completed"
    },
    "tags": []
   },
   "outputs": [
    {
     "data": {
      "text/html": [
       "<div>\n",
       "<style scoped>\n",
       "    .dataframe tbody tr th:only-of-type {\n",
       "        vertical-align: middle;\n",
       "    }\n",
       "\n",
       "    .dataframe tbody tr th {\n",
       "        vertical-align: top;\n",
       "    }\n",
       "\n",
       "    .dataframe thead th {\n",
       "        text-align: right;\n",
       "    }\n",
       "</style>\n",
       "<table border=\"1\" class=\"dataframe\">\n",
       "  <thead>\n",
       "    <tr style=\"text-align: right;\">\n",
       "      <th></th>\n",
       "      <th>Item_Identifier</th>\n",
       "      <th>Item_Weight</th>\n",
       "      <th>Item_Fat_Content</th>\n",
       "      <th>Item_Visibility</th>\n",
       "      <th>Item_Type</th>\n",
       "      <th>Item_MRP</th>\n",
       "      <th>Outlet_Identifier</th>\n",
       "      <th>Outlet_Establishment_Year</th>\n",
       "      <th>Outlet_Size</th>\n",
       "      <th>Outlet_Location_Type</th>\n",
       "      <th>Outlet_Type</th>\n",
       "    </tr>\n",
       "  </thead>\n",
       "  <tbody>\n",
       "    <tr>\n",
       "      <th>0</th>\n",
       "      <td>156</td>\n",
       "      <td>-0.841872</td>\n",
       "      <td>0</td>\n",
       "      <td>-0.970732</td>\n",
       "      <td>4</td>\n",
       "      <td>1.747454</td>\n",
       "      <td>9</td>\n",
       "      <td>1999</td>\n",
       "      <td>1</td>\n",
       "      <td>0</td>\n",
       "      <td>1</td>\n",
       "    </tr>\n",
       "    <tr>\n",
       "      <th>1</th>\n",
       "      <td>8</td>\n",
       "      <td>-1.641706</td>\n",
       "      <td>1</td>\n",
       "      <td>-0.908111</td>\n",
       "      <td>14</td>\n",
       "      <td>-1.489023</td>\n",
       "      <td>3</td>\n",
       "      <td>2009</td>\n",
       "      <td>0</td>\n",
       "      <td>2</td>\n",
       "      <td>2</td>\n",
       "    </tr>\n",
       "    <tr>\n",
       "      <th>2</th>\n",
       "      <td>662</td>\n",
       "      <td>1.098554</td>\n",
       "      <td>0</td>\n",
       "      <td>-0.956917</td>\n",
       "      <td>10</td>\n",
       "      <td>0.010040</td>\n",
       "      <td>9</td>\n",
       "      <td>1999</td>\n",
       "      <td>1</td>\n",
       "      <td>0</td>\n",
       "      <td>1</td>\n",
       "    </tr>\n",
       "    <tr>\n",
       "      <th>3</th>\n",
       "      <td>1121</td>\n",
       "      <td>1.500838</td>\n",
       "      <td>1</td>\n",
       "      <td>-1.281758</td>\n",
       "      <td>6</td>\n",
       "      <td>0.660050</td>\n",
       "      <td>0</td>\n",
       "      <td>1998</td>\n",
       "      <td>1</td>\n",
       "      <td>2</td>\n",
       "      <td>0</td>\n",
       "    </tr>\n",
       "    <tr>\n",
       "      <th>4</th>\n",
       "      <td>1297</td>\n",
       "      <td>-0.929428</td>\n",
       "      <td>0</td>\n",
       "      <td>-1.281758</td>\n",
       "      <td>9</td>\n",
       "      <td>-1.399220</td>\n",
       "      <td>1</td>\n",
       "      <td>1987</td>\n",
       "      <td>1</td>\n",
       "      <td>2</td>\n",
       "      <td>1</td>\n",
       "    </tr>\n",
       "    <tr>\n",
       "      <th>...</th>\n",
       "      <td>...</td>\n",
       "      <td>...</td>\n",
       "      <td>...</td>\n",
       "      <td>...</td>\n",
       "      <td>...</td>\n",
       "      <td>...</td>\n",
       "      <td>...</td>\n",
       "      <td>...</td>\n",
       "      <td>...</td>\n",
       "      <td>...</td>\n",
       "      <td>...</td>\n",
       "    </tr>\n",
       "    <tr>\n",
       "      <th>8518</th>\n",
       "      <td>370</td>\n",
       "      <td>-1.418084</td>\n",
       "      <td>0</td>\n",
       "      <td>-0.181193</td>\n",
       "      <td>13</td>\n",
       "      <td>1.180783</td>\n",
       "      <td>1</td>\n",
       "      <td>1987</td>\n",
       "      <td>1</td>\n",
       "      <td>2</td>\n",
       "      <td>1</td>\n",
       "    </tr>\n",
       "    <tr>\n",
       "      <th>8519</th>\n",
       "      <td>897</td>\n",
       "      <td>-1.059578</td>\n",
       "      <td>1</td>\n",
       "      <td>-0.371154</td>\n",
       "      <td>0</td>\n",
       "      <td>-0.527301</td>\n",
       "      <td>7</td>\n",
       "      <td>2002</td>\n",
       "      <td>1</td>\n",
       "      <td>1</td>\n",
       "      <td>1</td>\n",
       "    </tr>\n",
       "    <tr>\n",
       "      <th>8520</th>\n",
       "      <td>1357</td>\n",
       "      <td>-0.534243</td>\n",
       "      <td>0</td>\n",
       "      <td>-0.599784</td>\n",
       "      <td>8</td>\n",
       "      <td>-0.897208</td>\n",
       "      <td>6</td>\n",
       "      <td>2004</td>\n",
       "      <td>1</td>\n",
       "      <td>1</td>\n",
       "      <td>1</td>\n",
       "    </tr>\n",
       "    <tr>\n",
       "      <th>8521</th>\n",
       "      <td>681</td>\n",
       "      <td>-1.336444</td>\n",
       "      <td>1</td>\n",
       "      <td>1.532880</td>\n",
       "      <td>13</td>\n",
       "      <td>-0.607977</td>\n",
       "      <td>3</td>\n",
       "      <td>2009</td>\n",
       "      <td>0</td>\n",
       "      <td>2</td>\n",
       "      <td>2</td>\n",
       "    </tr>\n",
       "    <tr>\n",
       "      <th>8522</th>\n",
       "      <td>50</td>\n",
       "      <td>0.459634</td>\n",
       "      <td>0</td>\n",
       "      <td>-0.411936</td>\n",
       "      <td>14</td>\n",
       "      <td>-1.052261</td>\n",
       "      <td>8</td>\n",
       "      <td>1997</td>\n",
       "      <td>1</td>\n",
       "      <td>0</td>\n",
       "      <td>1</td>\n",
       "    </tr>\n",
       "  </tbody>\n",
       "</table>\n",
       "<p>8523 rows × 11 columns</p>\n",
       "</div>"
      ],
      "text/plain": [
       "      Item_Identifier  Item_Weight  Item_Fat_Content  Item_Visibility  \\\n",
       "0                 156    -0.841872                 0        -0.970732   \n",
       "1                   8    -1.641706                 1        -0.908111   \n",
       "2                 662     1.098554                 0        -0.956917   \n",
       "3                1121     1.500838                 1        -1.281758   \n",
       "4                1297    -0.929428                 0        -1.281758   \n",
       "...               ...          ...               ...              ...   \n",
       "8518              370    -1.418084                 0        -0.181193   \n",
       "8519              897    -1.059578                 1        -0.371154   \n",
       "8520             1357    -0.534243                 0        -0.599784   \n",
       "8521              681    -1.336444                 1         1.532880   \n",
       "8522               50     0.459634                 0        -0.411936   \n",
       "\n",
       "      Item_Type  Item_MRP  Outlet_Identifier  Outlet_Establishment_Year  \\\n",
       "0             4  1.747454                  9                       1999   \n",
       "1            14 -1.489023                  3                       2009   \n",
       "2            10  0.010040                  9                       1999   \n",
       "3             6  0.660050                  0                       1998   \n",
       "4             9 -1.399220                  1                       1987   \n",
       "...         ...       ...                ...                        ...   \n",
       "8518         13  1.180783                  1                       1987   \n",
       "8519          0 -0.527301                  7                       2002   \n",
       "8520          8 -0.897208                  6                       2004   \n",
       "8521         13 -0.607977                  3                       2009   \n",
       "8522         14 -1.052261                  8                       1997   \n",
       "\n",
       "      Outlet_Size  Outlet_Location_Type  Outlet_Type  \n",
       "0               1                     0            1  \n",
       "1               0                     2            2  \n",
       "2               1                     0            1  \n",
       "3               1                     2            0  \n",
       "4               1                     2            1  \n",
       "...           ...                   ...          ...  \n",
       "8518            1                     2            1  \n",
       "8519            1                     1            1  \n",
       "8520            1                     1            1  \n",
       "8521            0                     2            2  \n",
       "8522            1                     0            1  \n",
       "\n",
       "[8523 rows x 11 columns]"
      ]
     },
     "execution_count": 33,
     "metadata": {},
     "output_type": "execute_result"
    }
   ],
   "source": [
    "Features"
   ]
  },
  {
   "cell_type": "code",
   "execution_count": 34,
   "id": "43e11cf8",
   "metadata": {
    "execution": {
     "iopub.execute_input": "2024-01-11T12:48:34.669797Z",
     "iopub.status.busy": "2024-01-11T12:48:34.669380Z",
     "iopub.status.idle": "2024-01-11T12:48:34.678841Z",
     "shell.execute_reply": "2024-01-11T12:48:34.677563Z"
    },
    "papermill": {
     "duration": 0.041052,
     "end_time": "2024-01-11T12:48:34.681423",
     "exception": false,
     "start_time": "2024-01-11T12:48:34.640371",
     "status": "completed"
    },
    "tags": []
   },
   "outputs": [
    {
     "data": {
      "text/plain": [
       "0       0.910601\n",
       "1      -1.018440\n",
       "2      -0.049238\n",
       "3      -0.849103\n",
       "4      -0.695373\n",
       "          ...   \n",
       "8518    0.349915\n",
       "8519   -0.956402\n",
       "8520   -0.579100\n",
       "8521   -0.196725\n",
       "8522   -0.829594\n",
       "Name: Item_Outlet_Sales, Length: 8523, dtype: float64"
      ]
     },
     "execution_count": 34,
     "metadata": {},
     "output_type": "execute_result"
    }
   ],
   "source": [
    "Target"
   ]
  },
  {
   "cell_type": "code",
   "execution_count": 35,
   "id": "12741801",
   "metadata": {
    "execution": {
     "iopub.execute_input": "2024-01-11T12:48:34.738332Z",
     "iopub.status.busy": "2024-01-11T12:48:34.737914Z",
     "iopub.status.idle": "2024-01-11T12:48:34.748257Z",
     "shell.execute_reply": "2024-01-11T12:48:34.747004Z"
    },
    "papermill": {
     "duration": 0.042459,
     "end_time": "2024-01-11T12:48:34.751181",
     "exception": false,
     "start_time": "2024-01-11T12:48:34.708722",
     "status": "completed"
    },
    "tags": []
   },
   "outputs": [],
   "source": [
    "# Split data into train and test sets\n",
    "Features_train,Features_test,Target_train,Target_test = train_test_split(Features,Target,test_size=0.2,random_state=42)"
   ]
  },
  {
   "cell_type": "code",
   "execution_count": 36,
   "id": "5137da2e",
   "metadata": {
    "execution": {
     "iopub.execute_input": "2024-01-11T12:48:34.813555Z",
     "iopub.status.busy": "2024-01-11T12:48:34.812950Z",
     "iopub.status.idle": "2024-01-11T12:48:34.820255Z",
     "shell.execute_reply": "2024-01-11T12:48:34.818877Z"
    },
    "papermill": {
     "duration": 0.043001,
     "end_time": "2024-01-11T12:48:34.822897",
     "exception": false,
     "start_time": "2024-01-11T12:48:34.779896",
     "status": "completed"
    },
    "tags": []
   },
   "outputs": [
    {
     "name": "stdout",
     "output_type": "stream",
     "text": [
      "Shape of Features: (8523, 11)\n",
      "Shape of Features_train: (6818, 11)\n",
      "Shape of Features_test: (1705, 11)\n"
     ]
    }
   ],
   "source": [
    "# Print shape of features and training and testing data of features\n",
    "print(\"Shape of Features:\", Features.shape)\n",
    "print(\"Shape of Features_train:\", Features_train.shape)\n",
    "print(\"Shape of Features_test:\", Features_test.shape)"
   ]
  },
  {
   "cell_type": "code",
   "execution_count": 37,
   "id": "e0caef37",
   "metadata": {
    "execution": {
     "iopub.execute_input": "2024-01-11T12:48:34.883152Z",
     "iopub.status.busy": "2024-01-11T12:48:34.882709Z",
     "iopub.status.idle": "2024-01-11T12:48:34.890017Z",
     "shell.execute_reply": "2024-01-11T12:48:34.888588Z"
    },
    "papermill": {
     "duration": 0.040664,
     "end_time": "2024-01-11T12:48:34.892829",
     "exception": false,
     "start_time": "2024-01-11T12:48:34.852165",
     "status": "completed"
    },
    "tags": []
   },
   "outputs": [
    {
     "name": "stdout",
     "output_type": "stream",
     "text": [
      "Shape of Target: (8523,)\n",
      "Shape of Target_train: (6818,)\n",
      "Shape of Target_test: (1705,)\n"
     ]
    }
   ],
   "source": [
    "# Print shape of Target and training and testing data of target\n",
    "print(\"Shape of Target:\", Target.shape)\n",
    "print(\"Shape of Target_train:\", Target_train.shape)\n",
    "print(\"Shape of Target_test:\", Target_test.shape)"
   ]
  },
  {
   "cell_type": "code",
   "execution_count": 38,
   "id": "07b3c5d4",
   "metadata": {
    "execution": {
     "iopub.execute_input": "2024-01-11T12:48:34.954761Z",
     "iopub.status.busy": "2024-01-11T12:48:34.953663Z",
     "iopub.status.idle": "2024-01-11T12:48:35.205726Z",
     "shell.execute_reply": "2024-01-11T12:48:35.204846Z"
    },
    "papermill": {
     "duration": 0.286848,
     "end_time": "2024-01-11T12:48:35.208493",
     "exception": false,
     "start_time": "2024-01-11T12:48:34.921645",
     "status": "completed"
    },
    "tags": []
   },
   "outputs": [
    {
     "name": "stdout",
     "output_type": "stream",
     "text": [
      "R-Squared: 0.5119126417237851\n",
      "Mean Absolute Error: 0.47173654608004656\n",
      "Mean Squared Error: 0.45559693922553346\n"
     ]
    }
   ],
   "source": [
    "## Building model with XGBRegressor\n",
    "XGBRModel = XGBRegressor()\n",
    "\n",
    "# Fit the model\n",
    "XGBRModel.fit(Features_train,Target_train)\n",
    "\n",
    "# Predict the model\n",
    "Target_pred = XGBRModel.predict(Features_test)\n",
    "\n",
    "# Calculate R-Squared\n",
    "r2_score = metrics.r2_score(Target_test,Target_pred)\n",
    "print(\"R-Squared:\", r2_score)\n",
    "\n",
    "# Calculate Mean Absolute Error\n",
    "mae = metrics.mean_absolute_error(Target_test,Target_pred)\n",
    "print(\"Mean Absolute Error:\", mae)\n",
    "\n",
    "# Calculate Mean Squared Error\n",
    "mse = metrics.mean_squared_error(Target_test,Target_pred)\n",
    "print(\"Mean Squared Error:\", mse)"
   ]
  },
  {
   "cell_type": "code",
   "execution_count": 39,
   "id": "9d5b5168",
   "metadata": {
    "execution": {
     "iopub.execute_input": "2024-01-11T12:48:35.269795Z",
     "iopub.status.busy": "2024-01-11T12:48:35.269365Z",
     "iopub.status.idle": "2024-01-11T12:48:38.387746Z",
     "shell.execute_reply": "2024-01-11T12:48:38.386182Z"
    },
    "papermill": {
     "duration": 3.152435,
     "end_time": "2024-01-11T12:48:38.390631",
     "exception": false,
     "start_time": "2024-01-11T12:48:35.238196",
     "status": "completed"
    },
    "tags": []
   },
   "outputs": [
    {
     "name": "stdout",
     "output_type": "stream",
     "text": [
      "R-Squared: -0.024447002815127128\n",
      "Mean Absolute Error: 0.7432809334031226\n",
      "Mean Squared Error: 0.9562528325456281\n"
     ]
    }
   ],
   "source": [
    "## Building SVR Model\n",
    "# Build model with SVLRegressor\n",
    "model = SVR()\n",
    "\n",
    "# Fitting the model\n",
    "model.fit(Features_train,Target_train)\n",
    "\n",
    "# Predict the model\n",
    "Target_pred = model.predict(Features_test)\n",
    "\n",
    "# Calculate R-Squared\n",
    "r2_score = metrics.r2_score(Target_test,Target_pred)\n",
    "print(\"R-Squared:\", r2_score)\n",
    "\n",
    "# Calculate Mean Absolute Error\n",
    "mae = metrics.mean_absolute_error(Target_test,Target_pred)\n",
    "print(\"Mean Absolute Error:\", mae)\n",
    "\n",
    "# Calculate Mean Squared Error\n",
    "mse = metrics.mean_squared_error(Target_test,Target_pred)\n",
    "print(\"Mean Squared Error:\", mse)"
   ]
  },
  {
   "cell_type": "code",
   "execution_count": 40,
   "id": "444da82e",
   "metadata": {
    "execution": {
     "iopub.execute_input": "2024-01-11T12:48:38.452685Z",
     "iopub.status.busy": "2024-01-11T12:48:38.451892Z",
     "iopub.status.idle": "2024-01-11T12:48:42.305363Z",
     "shell.execute_reply": "2024-01-11T12:48:42.303425Z"
    },
    "papermill": {
     "duration": 3.889105,
     "end_time": "2024-01-11T12:48:42.309631",
     "exception": false,
     "start_time": "2024-01-11T12:48:38.420526",
     "status": "completed"
    },
    "tags": []
   },
   "outputs": [
    {
     "name": "stdout",
     "output_type": "stream",
     "text": [
      "R-Squared: 0.5529212765655414\n",
      "Mean Absolute Error: 0.4480802021803598\n",
      "Mean Squared Error: 0.4173181184388075\n"
     ]
    }
   ],
   "source": [
    "# Building model with RandomForestRegressor\n",
    "model = RandomForestRegressor()\n",
    "\n",
    "# Fitting the model\n",
    "model.fit(Features_train,Target_train)\n",
    "\n",
    "# Predict the model\n",
    "Target_pred = model.predict(Features_test)\n",
    "\n",
    "# Calculate R-Squared\n",
    "r2_score = metrics.r2_score(Target_test,Target_pred)\n",
    "print(\"R-Squared:\", r2_score)\n",
    "\n",
    "# Calculate Mean Absolute Error\n",
    "mae = metrics.mean_absolute_error(Target_test,Target_pred)\n",
    "print(\"Mean Absolute Error:\", mae)\n",
    "\n",
    "# Calculate Mean Squared Error\n",
    "mse = metrics.mean_squared_error(Target_test,Target_pred)\n",
    "print(\"Mean Squared Error:\", mse)"
   ]
  },
  {
   "cell_type": "code",
   "execution_count": 41,
   "id": "a16edd20",
   "metadata": {
    "execution": {
     "iopub.execute_input": "2024-01-11T12:48:42.369362Z",
     "iopub.status.busy": "2024-01-11T12:48:42.367612Z",
     "iopub.status.idle": "2024-01-11T12:49:29.431090Z",
     "shell.execute_reply": "2024-01-11T12:49:29.429118Z"
    },
    "papermill": {
     "duration": 47.095318,
     "end_time": "2024-01-11T12:49:29.433555",
     "exception": false,
     "start_time": "2024-01-11T12:48:42.338237",
     "status": "completed"
    },
    "tags": []
   },
   "outputs": [
    {
     "name": "stderr",
     "output_type": "stream",
     "text": [
      " 21%|██▏       | 9/42 [00:03<00:20,  1.59it/s]"
     ]
    },
    {
     "name": "stdout",
     "output_type": "stream",
     "text": [
      "GammaRegressor model failed to execute\n",
      "Some value(s) of y are out of the valid range of the loss 'HalfGammaLoss'.\n"
     ]
    },
    {
     "name": "stderr",
     "output_type": "stream",
     "text": [
      " 71%|███████▏  | 30/42 [00:37<00:13,  1.10s/it]"
     ]
    },
    {
     "name": "stdout",
     "output_type": "stream",
     "text": [
      "PoissonRegressor model failed to execute\n",
      "Some value(s) of y are out of the valid range of the loss 'HalfPoissonLoss'.\n",
      "QuantileRegressor model failed to execute\n",
      "Solver interior-point is not anymore available in SciPy >= 1.11.0.\n"
     ]
    },
    {
     "name": "stderr",
     "output_type": "stream",
     "text": [
      "100%|██████████| 42/42 [00:45<00:00,  1.09s/it]"
     ]
    },
    {
     "name": "stdout",
     "output_type": "stream",
     "text": [
      "                               Adjusted R-Squared  R-Squared  RMSE  Time Taken\n",
      "Model                                                                         \n",
      "NuSVR                                        0.61       0.61  0.60        2.69\n",
      "SVR                                          0.61       0.61  0.60        2.90\n",
      "MLPRegressor                                 0.61       0.61  0.61        7.74\n",
      "GradientBoostingRegressor                    0.60       0.60  0.61        1.22\n",
      "LGBMRegressor                                0.59       0.59  0.62        0.98\n",
      "HistGradientBoostingRegressor                0.58       0.59  0.62        0.55\n",
      "Lars                                         0.58       0.58  0.63        0.04\n",
      "LarsCV                                       0.58       0.58  0.63        0.08\n",
      "LassoLarsIC                                  0.58       0.58  0.63        0.10\n",
      "TransformedTargetRegressor                   0.58       0.58  0.63        0.05\n",
      "LinearRegression                             0.58       0.58  0.63        0.12\n",
      "RidgeCV                                      0.58       0.58  0.63        0.11\n",
      "Ridge                                        0.58       0.58  0.63        0.02\n",
      "KernelRidge                                  0.58       0.58  0.63        5.03\n",
      "BayesianRidge                                0.58       0.58  0.63        0.11\n",
      "ElasticNetCV                                 0.58       0.58  0.63        0.35\n",
      "LassoLarsCV                                  0.58       0.58  0.63        0.08\n",
      "LassoCV                                      0.58       0.58  0.63        0.35\n",
      "OrthogonalMatchingPursuitCV                  0.58       0.58  0.63        0.06\n",
      "SGDRegressor                                 0.58       0.58  0.63        0.10\n",
      "HuberRegressor                               0.57       0.58  0.63        0.07\n",
      "LinearSVR                                    0.57       0.57  0.63        0.21\n",
      "RandomForestRegressor                        0.55       0.56  0.64        3.92\n",
      "ExtraTreesRegressor                          0.55       0.55  0.65        2.05\n",
      "BaggingRegressor                             0.52       0.52  0.67        0.40\n",
      "XGBRegressor                                 0.51       0.51  0.67        0.31\n",
      "RANSACRegressor                              0.50       0.51  0.68        0.40\n",
      "KNeighborsRegressor                          0.50       0.50  0.68        0.16\n",
      "AdaBoostRegressor                            0.40       0.41  0.74        0.45\n",
      "TweedieRegressor                             0.39       0.39  0.75        0.11\n",
      "OrthogonalMatchingPursuit                    0.33       0.33  0.79        0.02\n",
      "DecisionTreeRegressor                        0.20       0.20  0.86        0.15\n",
      "PassiveAggressiveRegressor                   0.08       0.09  0.92        0.04\n",
      "ExtraTreeRegressor                           0.07       0.07  0.93        0.11\n",
      "ElasticNet                                   0.04       0.05  0.94        0.06\n",
      "Lasso                                       -0.01      -0.00  0.97        0.09\n",
      "DummyRegressor                              -0.01      -0.00  0.97        0.02\n",
      "LassoLars                                   -0.01      -0.00  0.97        0.08\n",
      "GaussianProcessRegressor                   -61.37     -60.97  7.61       14.50\n"
     ]
    },
    {
     "name": "stderr",
     "output_type": "stream",
     "text": [
      "\n"
     ]
    }
   ],
   "source": [
    "# Building Lazy Predict Model\n",
    "from lazypredict.Supervised import LazyRegressor\n",
    "\n",
    "reg = LazyRegressor(verbose=0,ignore_warnings=False, custom_metric=None)\n",
    "models,predictions = reg.fit(Features_train,Features_test,Target_train,Target_test)\n",
    "\n",
    "# Print model performance\n",
    "print (models)"
   ]
  },
  {
   "cell_type": "code",
   "execution_count": 42,
   "id": "6d291f94",
   "metadata": {
    "execution": {
     "iopub.execute_input": "2024-01-11T12:49:29.500398Z",
     "iopub.status.busy": "2024-01-11T12:49:29.499819Z",
     "iopub.status.idle": "2024-01-11T12:49:30.703968Z",
     "shell.execute_reply": "2024-01-11T12:49:30.702542Z"
    },
    "papermill": {
     "duration": 1.241202,
     "end_time": "2024-01-11T12:49:30.707116",
     "exception": false,
     "start_time": "2024-01-11T12:49:29.465914",
     "status": "completed"
    },
    "tags": []
   },
   "outputs": [
    {
     "name": "stdout",
     "output_type": "stream",
     "text": [
      "R-Squared: 0.6037397755518279\n",
      "Mean Absolute Error: 0.42452516683004043\n",
      "Mean Squared Error: 0.3698824448824243\n"
     ]
    }
   ],
   "source": [
    "# Building model with GradientBoostingRegressor\n",
    "model = GradientBoostingRegressor()\n",
    "\n",
    "# Fitting the model\n",
    "model.fit(Features_train,Target_train)\n",
    "\n",
    "#Predicting the model\n",
    "Target_pred = model.predict(Features_test)\n",
    "\n",
    "# Calculate R-Squared\n",
    "r2_score = metrics.r2_score(Target_test,Target_pred)\n",
    "print(\"R-Squared:\", r2_score)\n",
    "\n",
    "# Calculate Mean Absolute Error\n",
    "mae = metrics.mean_absolute_error(Target_test,Target_pred)\n",
    "print(\"Mean Absolute Error:\", mae)\n",
    "\n",
    "# Calculate Mean Squared Error\n",
    "mse = metrics.mean_squared_error(Target_test,Target_pred)\n",
    "print(\"Mean Squared Error:\", mse)"
   ]
  },
  {
   "cell_type": "code",
   "execution_count": 43,
   "id": "23b5363a",
   "metadata": {
    "execution": {
     "iopub.execute_input": "2024-01-11T12:49:30.776146Z",
     "iopub.status.busy": "2024-01-11T12:49:30.775705Z",
     "iopub.status.idle": "2024-01-11T12:49:31.792500Z",
     "shell.execute_reply": "2024-01-11T12:49:31.790671Z"
    },
    "papermill": {
     "duration": 1.054457,
     "end_time": "2024-01-11T12:49:31.795577",
     "exception": false,
     "start_time": "2024-01-11T12:49:30.741120",
     "status": "completed"
    },
    "tags": []
   },
   "outputs": [
    {
     "name": "stdout",
     "output_type": "stream",
     "text": [
      "R-Squared: 0.5865680743618109\n",
      "Mean Absolute Error: 0.43394911824178806\n",
      "Mean Squared Error: 0.3859110806805262\n"
     ]
    }
   ],
   "source": [
    "# Building model with LGBMRegressor\n",
    "model = LGBMRegressor()\n",
    "\n",
    "# Fitting the model\n",
    "model.fit(Features_train,Target_train)\n",
    "\n",
    "# Predicting the model\n",
    "Target_pred = model.predict(Features_test)\n",
    "\n",
    "# Calculating R-Squared\n",
    "r2_score = metrics.r2_score(Target_test,Target_pred)\n",
    "print(\"R-Squared:\",r2_score)\n",
    "\n",
    "# Calculating Mean Absolute Error\n",
    "mae = metrics.mean_absolute_error(Target_test,Target_pred)\n",
    "print(\"Mean Absolute Error:\",mae)\n",
    "\n",
    "# Calculating Mean Squared Error\n",
    "mse = metrics.mean_squared_error(Target_test,Target_pred)\n",
    "print(\"Mean Squared Error:\",mse)"
   ]
  },
  {
   "cell_type": "code",
   "execution_count": 44,
   "id": "ecac4c03",
   "metadata": {
    "execution": {
     "iopub.execute_input": "2024-01-11T12:49:31.861481Z",
     "iopub.status.busy": "2024-01-11T12:49:31.860931Z",
     "iopub.status.idle": "2024-01-11T12:49:31.874458Z",
     "shell.execute_reply": "2024-01-11T12:49:31.873221Z"
    },
    "papermill": {
     "duration": 0.049979,
     "end_time": "2024-01-11T12:49:31.877463",
     "exception": false,
     "start_time": "2024-01-11T12:49:31.827484",
     "status": "completed"
    },
    "tags": []
   },
   "outputs": [
    {
     "data": {
      "text/plain": [
       "['XGBRegressor.joblib']"
      ]
     },
     "execution_count": 44,
     "metadata": {},
     "output_type": "execute_result"
    }
   ],
   "source": [
    "# Saving the model\n",
    "from joblib import dump\n",
    "dump(XGBRModel, 'XGBRegressor.joblib')"
   ]
  },
  {
   "cell_type": "code",
   "execution_count": 45,
   "id": "29ed6c5d",
   "metadata": {
    "execution": {
     "iopub.execute_input": "2024-01-11T12:49:31.943767Z",
     "iopub.status.busy": "2024-01-11T12:49:31.942743Z",
     "iopub.status.idle": "2024-01-11T12:49:31.998913Z",
     "shell.execute_reply": "2024-01-11T12:49:31.997583Z"
    },
    "papermill": {
     "duration": 0.093917,
     "end_time": "2024-01-11T12:49:32.003040",
     "exception": false,
     "start_time": "2024-01-11T12:49:31.909123",
     "status": "completed"
    },
    "tags": []
   },
   "outputs": [
    {
     "data": {
      "text/html": [
       "<div>\n",
       "<style scoped>\n",
       "    .dataframe tbody tr th:only-of-type {\n",
       "        vertical-align: middle;\n",
       "    }\n",
       "\n",
       "    .dataframe tbody tr th {\n",
       "        vertical-align: top;\n",
       "    }\n",
       "\n",
       "    .dataframe thead th {\n",
       "        text-align: right;\n",
       "    }\n",
       "</style>\n",
       "<table border=\"1\" class=\"dataframe\">\n",
       "  <thead>\n",
       "    <tr style=\"text-align: right;\">\n",
       "      <th></th>\n",
       "      <th>Item_Identifier</th>\n",
       "      <th>Item_Weight</th>\n",
       "      <th>Item_Fat_Content</th>\n",
       "      <th>Item_Visibility</th>\n",
       "      <th>Item_Type</th>\n",
       "      <th>Item_MRP</th>\n",
       "      <th>Outlet_Identifier</th>\n",
       "      <th>Outlet_Establishment_Year</th>\n",
       "      <th>Outlet_Size</th>\n",
       "      <th>Outlet_Location_Type</th>\n",
       "      <th>Outlet_Type</th>\n",
       "    </tr>\n",
       "  </thead>\n",
       "  <tbody>\n",
       "    <tr>\n",
       "      <th>0</th>\n",
       "      <td>FDW58</td>\n",
       "      <td>20.75</td>\n",
       "      <td>Low Fat</td>\n",
       "      <td>0.01</td>\n",
       "      <td>Snack Foods</td>\n",
       "      <td>107.86</td>\n",
       "      <td>OUT049</td>\n",
       "      <td>1999</td>\n",
       "      <td>Medium</td>\n",
       "      <td>Tier 1</td>\n",
       "      <td>Supermarket Type1</td>\n",
       "    </tr>\n",
       "    <tr>\n",
       "      <th>1</th>\n",
       "      <td>FDW14</td>\n",
       "      <td>8.30</td>\n",
       "      <td>reg</td>\n",
       "      <td>0.04</td>\n",
       "      <td>Dairy</td>\n",
       "      <td>87.32</td>\n",
       "      <td>OUT017</td>\n",
       "      <td>2007</td>\n",
       "      <td>NaN</td>\n",
       "      <td>Tier 2</td>\n",
       "      <td>Supermarket Type1</td>\n",
       "    </tr>\n",
       "    <tr>\n",
       "      <th>2</th>\n",
       "      <td>NCN55</td>\n",
       "      <td>14.60</td>\n",
       "      <td>Low Fat</td>\n",
       "      <td>0.10</td>\n",
       "      <td>Others</td>\n",
       "      <td>241.75</td>\n",
       "      <td>OUT010</td>\n",
       "      <td>1998</td>\n",
       "      <td>NaN</td>\n",
       "      <td>Tier 3</td>\n",
       "      <td>Grocery Store</td>\n",
       "    </tr>\n",
       "    <tr>\n",
       "      <th>3</th>\n",
       "      <td>FDQ58</td>\n",
       "      <td>7.32</td>\n",
       "      <td>Low Fat</td>\n",
       "      <td>0.02</td>\n",
       "      <td>Snack Foods</td>\n",
       "      <td>155.03</td>\n",
       "      <td>OUT017</td>\n",
       "      <td>2007</td>\n",
       "      <td>NaN</td>\n",
       "      <td>Tier 2</td>\n",
       "      <td>Supermarket Type1</td>\n",
       "    </tr>\n",
       "    <tr>\n",
       "      <th>4</th>\n",
       "      <td>FDY38</td>\n",
       "      <td>NaN</td>\n",
       "      <td>Regular</td>\n",
       "      <td>0.12</td>\n",
       "      <td>Dairy</td>\n",
       "      <td>234.23</td>\n",
       "      <td>OUT027</td>\n",
       "      <td>1985</td>\n",
       "      <td>Medium</td>\n",
       "      <td>Tier 3</td>\n",
       "      <td>Supermarket Type3</td>\n",
       "    </tr>\n",
       "    <tr>\n",
       "      <th>5</th>\n",
       "      <td>FDH56</td>\n",
       "      <td>9.80</td>\n",
       "      <td>Regular</td>\n",
       "      <td>0.06</td>\n",
       "      <td>Fruits and Vegetables</td>\n",
       "      <td>117.15</td>\n",
       "      <td>OUT046</td>\n",
       "      <td>1997</td>\n",
       "      <td>Small</td>\n",
       "      <td>Tier 1</td>\n",
       "      <td>Supermarket Type1</td>\n",
       "    </tr>\n",
       "    <tr>\n",
       "      <th>6</th>\n",
       "      <td>FDL48</td>\n",
       "      <td>19.35</td>\n",
       "      <td>Regular</td>\n",
       "      <td>0.08</td>\n",
       "      <td>Baking Goods</td>\n",
       "      <td>50.10</td>\n",
       "      <td>OUT018</td>\n",
       "      <td>2009</td>\n",
       "      <td>Medium</td>\n",
       "      <td>Tier 3</td>\n",
       "      <td>Supermarket Type2</td>\n",
       "    </tr>\n",
       "    <tr>\n",
       "      <th>7</th>\n",
       "      <td>FDC48</td>\n",
       "      <td>NaN</td>\n",
       "      <td>Low Fat</td>\n",
       "      <td>0.02</td>\n",
       "      <td>Baking Goods</td>\n",
       "      <td>81.06</td>\n",
       "      <td>OUT027</td>\n",
       "      <td>1985</td>\n",
       "      <td>Medium</td>\n",
       "      <td>Tier 3</td>\n",
       "      <td>Supermarket Type3</td>\n",
       "    </tr>\n",
       "    <tr>\n",
       "      <th>8</th>\n",
       "      <td>FDN33</td>\n",
       "      <td>6.30</td>\n",
       "      <td>Regular</td>\n",
       "      <td>0.12</td>\n",
       "      <td>Snack Foods</td>\n",
       "      <td>95.74</td>\n",
       "      <td>OUT045</td>\n",
       "      <td>2002</td>\n",
       "      <td>NaN</td>\n",
       "      <td>Tier 2</td>\n",
       "      <td>Supermarket Type1</td>\n",
       "    </tr>\n",
       "    <tr>\n",
       "      <th>9</th>\n",
       "      <td>FDA36</td>\n",
       "      <td>5.99</td>\n",
       "      <td>Low Fat</td>\n",
       "      <td>0.01</td>\n",
       "      <td>Baking Goods</td>\n",
       "      <td>186.89</td>\n",
       "      <td>OUT017</td>\n",
       "      <td>2007</td>\n",
       "      <td>NaN</td>\n",
       "      <td>Tier 2</td>\n",
       "      <td>Supermarket Type1</td>\n",
       "    </tr>\n",
       "  </tbody>\n",
       "</table>\n",
       "</div>"
      ],
      "text/plain": [
       "  Item_Identifier  Item_Weight Item_Fat_Content  Item_Visibility  \\\n",
       "0           FDW58        20.75          Low Fat             0.01   \n",
       "1           FDW14         8.30              reg             0.04   \n",
       "2           NCN55        14.60          Low Fat             0.10   \n",
       "3           FDQ58         7.32          Low Fat             0.02   \n",
       "4           FDY38          NaN          Regular             0.12   \n",
       "5           FDH56         9.80          Regular             0.06   \n",
       "6           FDL48        19.35          Regular             0.08   \n",
       "7           FDC48          NaN          Low Fat             0.02   \n",
       "8           FDN33         6.30          Regular             0.12   \n",
       "9           FDA36         5.99          Low Fat             0.01   \n",
       "\n",
       "               Item_Type  Item_MRP Outlet_Identifier  \\\n",
       "0            Snack Foods    107.86            OUT049   \n",
       "1                  Dairy     87.32            OUT017   \n",
       "2                 Others    241.75            OUT010   \n",
       "3            Snack Foods    155.03            OUT017   \n",
       "4                  Dairy    234.23            OUT027   \n",
       "5  Fruits and Vegetables    117.15            OUT046   \n",
       "6           Baking Goods     50.10            OUT018   \n",
       "7           Baking Goods     81.06            OUT027   \n",
       "8            Snack Foods     95.74            OUT045   \n",
       "9           Baking Goods    186.89            OUT017   \n",
       "\n",
       "   Outlet_Establishment_Year Outlet_Size Outlet_Location_Type  \\\n",
       "0                       1999      Medium               Tier 1   \n",
       "1                       2007         NaN               Tier 2   \n",
       "2                       1998         NaN               Tier 3   \n",
       "3                       2007         NaN               Tier 2   \n",
       "4                       1985      Medium               Tier 3   \n",
       "5                       1997       Small               Tier 1   \n",
       "6                       2009      Medium               Tier 3   \n",
       "7                       1985      Medium               Tier 3   \n",
       "8                       2002         NaN               Tier 2   \n",
       "9                       2007         NaN               Tier 2   \n",
       "\n",
       "         Outlet_Type  \n",
       "0  Supermarket Type1  \n",
       "1  Supermarket Type1  \n",
       "2      Grocery Store  \n",
       "3  Supermarket Type1  \n",
       "4  Supermarket Type3  \n",
       "5  Supermarket Type1  \n",
       "6  Supermarket Type2  \n",
       "7  Supermarket Type3  \n",
       "8  Supermarket Type1  \n",
       "9  Supermarket Type1  "
      ]
     },
     "execution_count": 45,
     "metadata": {},
     "output_type": "execute_result"
    }
   ],
   "source": [
    "## Making a predictive system\n",
    "# Read test data\n",
    "df_test = pd.read_csv(\"/kaggle/input/bigmart-sales-data/Test.csv\")\n",
    "df_test.head(10)"
   ]
  },
  {
   "cell_type": "code",
   "execution_count": 46,
   "id": "8f15d95e",
   "metadata": {
    "execution": {
     "iopub.execute_input": "2024-01-11T12:49:32.080221Z",
     "iopub.status.busy": "2024-01-11T12:49:32.079685Z",
     "iopub.status.idle": "2024-01-11T12:49:32.088563Z",
     "shell.execute_reply": "2024-01-11T12:49:32.087029Z"
    },
    "papermill": {
     "duration": 0.050097,
     "end_time": "2024-01-11T12:49:32.091337",
     "exception": false,
     "start_time": "2024-01-11T12:49:32.041240",
     "status": "completed"
    },
    "tags": []
   },
   "outputs": [
    {
     "data": {
      "text/plain": [
       "(5681, 11)"
      ]
     },
     "execution_count": 46,
     "metadata": {},
     "output_type": "execute_result"
    }
   ],
   "source": [
    "df_test.shape"
   ]
  },
  {
   "cell_type": "code",
   "execution_count": 47,
   "id": "40994373",
   "metadata": {
    "execution": {
     "iopub.execute_input": "2024-01-11T12:49:32.159148Z",
     "iopub.status.busy": "2024-01-11T12:49:32.158633Z",
     "iopub.status.idle": "2024-01-11T12:49:32.180810Z",
     "shell.execute_reply": "2024-01-11T12:49:32.179168Z"
    },
    "papermill": {
     "duration": 0.059356,
     "end_time": "2024-01-11T12:49:32.183789",
     "exception": false,
     "start_time": "2024-01-11T12:49:32.124433",
     "status": "completed"
    },
    "tags": []
   },
   "outputs": [
    {
     "name": "stdout",
     "output_type": "stream",
     "text": [
      "<class 'pandas.core.frame.DataFrame'>\n",
      "RangeIndex: 5681 entries, 0 to 5680\n",
      "Data columns (total 11 columns):\n",
      " #   Column                     Non-Null Count  Dtype  \n",
      "---  ------                     --------------  -----  \n",
      " 0   Item_Identifier            5681 non-null   object \n",
      " 1   Item_Weight                4705 non-null   float64\n",
      " 2   Item_Fat_Content           5681 non-null   object \n",
      " 3   Item_Visibility            5681 non-null   float64\n",
      " 4   Item_Type                  5681 non-null   object \n",
      " 5   Item_MRP                   5681 non-null   float64\n",
      " 6   Outlet_Identifier          5681 non-null   object \n",
      " 7   Outlet_Establishment_Year  5681 non-null   int64  \n",
      " 8   Outlet_Size                4075 non-null   object \n",
      " 9   Outlet_Location_Type       5681 non-null   object \n",
      " 10  Outlet_Type                5681 non-null   object \n",
      "dtypes: float64(3), int64(1), object(7)\n",
      "memory usage: 488.3+ KB\n"
     ]
    }
   ],
   "source": [
    "# Preprocessing test data\n",
    "df_test.info()"
   ]
  },
  {
   "cell_type": "code",
   "execution_count": 48,
   "id": "82c7bb71",
   "metadata": {
    "execution": {
     "iopub.execute_input": "2024-01-11T12:49:32.254962Z",
     "iopub.status.busy": "2024-01-11T12:49:32.254501Z",
     "iopub.status.idle": "2024-01-11T12:49:32.269324Z",
     "shell.execute_reply": "2024-01-11T12:49:32.267047Z"
    },
    "papermill": {
     "duration": 0.053844,
     "end_time": "2024-01-11T12:49:32.272340",
     "exception": false,
     "start_time": "2024-01-11T12:49:32.218496",
     "status": "completed"
    },
    "tags": []
   },
   "outputs": [
    {
     "data": {
      "text/plain": [
       "Item_Fat_Content\n",
       "Low Fat    3396\n",
       "Regular    1935\n",
       "LF          206\n",
       "reg          78\n",
       "low fat      66\n",
       "Name: count, dtype: int64"
      ]
     },
     "execution_count": 48,
     "metadata": {},
     "output_type": "execute_result"
    }
   ],
   "source": [
    "# See categories in Item_Fat_Content column\n",
    "df_test['Item_Fat_Content'].value_counts()"
   ]
  },
  {
   "cell_type": "code",
   "execution_count": 49,
   "id": "fe78e382",
   "metadata": {
    "execution": {
     "iopub.execute_input": "2024-01-11T12:49:32.342531Z",
     "iopub.status.busy": "2024-01-11T12:49:32.342042Z",
     "iopub.status.idle": "2024-01-11T12:49:32.352308Z",
     "shell.execute_reply": "2024-01-11T12:49:32.350898Z"
    },
    "papermill": {
     "duration": 0.048654,
     "end_time": "2024-01-11T12:49:32.354751",
     "exception": false,
     "start_time": "2024-01-11T12:49:32.306097",
     "status": "completed"
    },
    "tags": []
   },
   "outputs": [],
   "source": [
    "# Handle Item_Fat_Content column categories with replacement\n",
    "df_test['Item_Fat_Content'].replace({'LF':'Low Fat','reg':'Regular','low fat':'Low Fat'}, inplace=True)"
   ]
  },
  {
   "cell_type": "code",
   "execution_count": 50,
   "id": "f27da23a",
   "metadata": {
    "execution": {
     "iopub.execute_input": "2024-01-11T12:49:32.423763Z",
     "iopub.status.busy": "2024-01-11T12:49:32.423302Z",
     "iopub.status.idle": "2024-01-11T12:49:32.435704Z",
     "shell.execute_reply": "2024-01-11T12:49:32.434231Z"
    },
    "papermill": {
     "duration": 0.050704,
     "end_time": "2024-01-11T12:49:32.438491",
     "exception": false,
     "start_time": "2024-01-11T12:49:32.387787",
     "status": "completed"
    },
    "tags": []
   },
   "outputs": [
    {
     "data": {
      "text/plain": [
       "Item_Fat_Content\n",
       "Low Fat    3668\n",
       "Regular    2013\n",
       "Name: count, dtype: int64"
      ]
     },
     "execution_count": 50,
     "metadata": {},
     "output_type": "execute_result"
    }
   ],
   "source": [
    "# See categories in Item_Fat_Content column\n",
    "df_test['Item_Fat_Content'].value_counts()"
   ]
  },
  {
   "cell_type": "code",
   "execution_count": 51,
   "id": "36b0a8df",
   "metadata": {
    "execution": {
     "iopub.execute_input": "2024-01-11T12:49:32.509152Z",
     "iopub.status.busy": "2024-01-11T12:49:32.508553Z",
     "iopub.status.idle": "2024-01-11T12:49:32.540767Z",
     "shell.execute_reply": "2024-01-11T12:49:32.539334Z"
    },
    "papermill": {
     "duration": 0.071174,
     "end_time": "2024-01-11T12:49:32.544031",
     "exception": false,
     "start_time": "2024-01-11T12:49:32.472857",
     "status": "completed"
    },
    "tags": []
   },
   "outputs": [],
   "source": [
    "# Appling Label Encoding on categorical columns\n",
    "le = LabelEncoder()\n",
    "\n",
    "df_test['Item_Fat_Content'] = le.fit_transform(df_test['Item_Fat_Content'])\n",
    "\n",
    "df_test['Item_Type'] = le.fit_transform(df_test['Item_Type'])\n",
    "\n",
    "df_test['Outlet_Size'] = le.fit_transform(df_test['Outlet_Size'])\n",
    "\n",
    "df_test['Outlet_Location_Type'] = le.fit_transform(df_test['Outlet_Location_Type'])\n",
    "\n",
    "df_test['Outlet_Type'] = le.fit_transform(df_test['Outlet_Type'])\n",
    "\n",
    "df_test['Item_Identifier'] = le.fit_transform(df_test['Item_Identifier'])\n",
    "\n",
    "df_test['Outlet_Identifier'] = le.fit_transform(df_test['Outlet_Identifier'])"
   ]
  },
  {
   "cell_type": "code",
   "execution_count": 52,
   "id": "c664faed",
   "metadata": {
    "execution": {
     "iopub.execute_input": "2024-01-11T12:49:32.613556Z",
     "iopub.status.busy": "2024-01-11T12:49:32.613104Z",
     "iopub.status.idle": "2024-01-11T12:49:32.631953Z",
     "shell.execute_reply": "2024-01-11T12:49:32.630487Z"
    },
    "papermill": {
     "duration": 0.057454,
     "end_time": "2024-01-11T12:49:32.634875",
     "exception": false,
     "start_time": "2024-01-11T12:49:32.577421",
     "status": "completed"
    },
    "tags": []
   },
   "outputs": [
    {
     "name": "stdout",
     "output_type": "stream",
     "text": [
      "<class 'pandas.core.frame.DataFrame'>\n",
      "RangeIndex: 5681 entries, 0 to 5680\n",
      "Data columns (total 11 columns):\n",
      " #   Column                     Non-Null Count  Dtype  \n",
      "---  ------                     --------------  -----  \n",
      " 0   Item_Identifier            5681 non-null   int64  \n",
      " 1   Item_Weight                4705 non-null   float64\n",
      " 2   Item_Fat_Content           5681 non-null   int64  \n",
      " 3   Item_Visibility            5681 non-null   float64\n",
      " 4   Item_Type                  5681 non-null   int64  \n",
      " 5   Item_MRP                   5681 non-null   float64\n",
      " 6   Outlet_Identifier          5681 non-null   int64  \n",
      " 7   Outlet_Establishment_Year  5681 non-null   int64  \n",
      " 8   Outlet_Size                5681 non-null   int64  \n",
      " 9   Outlet_Location_Type       5681 non-null   int64  \n",
      " 10  Outlet_Type                5681 non-null   int64  \n",
      "dtypes: float64(3), int64(8)\n",
      "memory usage: 488.3 KB\n"
     ]
    }
   ],
   "source": [
    "df_test.info()"
   ]
  },
  {
   "cell_type": "code",
   "execution_count": 53,
   "id": "8a146292",
   "metadata": {
    "execution": {
     "iopub.execute_input": "2024-01-11T12:49:32.704417Z",
     "iopub.status.busy": "2024-01-11T12:49:32.703673Z",
     "iopub.status.idle": "2024-01-11T12:49:32.725165Z",
     "shell.execute_reply": "2024-01-11T12:49:32.724233Z"
    },
    "papermill": {
     "duration": 0.05909,
     "end_time": "2024-01-11T12:49:32.727351",
     "exception": false,
     "start_time": "2024-01-11T12:49:32.668261",
     "status": "completed"
    },
    "tags": []
   },
   "outputs": [
    {
     "data": {
      "text/html": [
       "<div>\n",
       "<style scoped>\n",
       "    .dataframe tbody tr th:only-of-type {\n",
       "        vertical-align: middle;\n",
       "    }\n",
       "\n",
       "    .dataframe tbody tr th {\n",
       "        vertical-align: top;\n",
       "    }\n",
       "\n",
       "    .dataframe thead th {\n",
       "        text-align: right;\n",
       "    }\n",
       "</style>\n",
       "<table border=\"1\" class=\"dataframe\">\n",
       "  <thead>\n",
       "    <tr style=\"text-align: right;\">\n",
       "      <th></th>\n",
       "      <th>Item_Identifier</th>\n",
       "      <th>Item_Weight</th>\n",
       "      <th>Item_Fat_Content</th>\n",
       "      <th>Item_Visibility</th>\n",
       "      <th>Item_Type</th>\n",
       "      <th>Item_MRP</th>\n",
       "      <th>Outlet_Identifier</th>\n",
       "      <th>Outlet_Establishment_Year</th>\n",
       "      <th>Outlet_Size</th>\n",
       "      <th>Outlet_Location_Type</th>\n",
       "      <th>Outlet_Type</th>\n",
       "    </tr>\n",
       "  </thead>\n",
       "  <tbody>\n",
       "    <tr>\n",
       "      <th>0</th>\n",
       "      <td>1103</td>\n",
       "      <td>1.73</td>\n",
       "      <td>0</td>\n",
       "      <td>-1.13</td>\n",
       "      <td>13</td>\n",
       "      <td>-0.54</td>\n",
       "      <td>9</td>\n",
       "      <td>1999</td>\n",
       "      <td>1</td>\n",
       "      <td>0</td>\n",
       "      <td>1</td>\n",
       "    </tr>\n",
       "    <tr>\n",
       "      <th>1</th>\n",
       "      <td>1067</td>\n",
       "      <td>-0.94</td>\n",
       "      <td>1</td>\n",
       "      <td>-0.53</td>\n",
       "      <td>4</td>\n",
       "      <td>-0.87</td>\n",
       "      <td>2</td>\n",
       "      <td>2007</td>\n",
       "      <td>3</td>\n",
       "      <td>1</td>\n",
       "      <td>1</td>\n",
       "    </tr>\n",
       "    <tr>\n",
       "      <th>2</th>\n",
       "      <td>1406</td>\n",
       "      <td>0.41</td>\n",
       "      <td>0</td>\n",
       "      <td>0.66</td>\n",
       "      <td>11</td>\n",
       "      <td>1.63</td>\n",
       "      <td>0</td>\n",
       "      <td>1998</td>\n",
       "      <td>3</td>\n",
       "      <td>2</td>\n",
       "      <td>0</td>\n",
       "    </tr>\n",
       "    <tr>\n",
       "      <th>3</th>\n",
       "      <td>809</td>\n",
       "      <td>-1.15</td>\n",
       "      <td>0</td>\n",
       "      <td>-0.98</td>\n",
       "      <td>13</td>\n",
       "      <td>0.23</td>\n",
       "      <td>2</td>\n",
       "      <td>2007</td>\n",
       "      <td>3</td>\n",
       "      <td>1</td>\n",
       "      <td>1</td>\n",
       "    </tr>\n",
       "    <tr>\n",
       "      <th>4</th>\n",
       "      <td>1184</td>\n",
       "      <td>NaN</td>\n",
       "      <td>1</td>\n",
       "      <td>1.03</td>\n",
       "      <td>4</td>\n",
       "      <td>1.51</td>\n",
       "      <td>5</td>\n",
       "      <td>1985</td>\n",
       "      <td>1</td>\n",
       "      <td>2</td>\n",
       "      <td>3</td>\n",
       "    </tr>\n",
       "    <tr>\n",
       "      <th>5</th>\n",
       "      <td>461</td>\n",
       "      <td>-0.62</td>\n",
       "      <td>1</td>\n",
       "      <td>-0.04</td>\n",
       "      <td>6</td>\n",
       "      <td>-0.39</td>\n",
       "      <td>8</td>\n",
       "      <td>1997</td>\n",
       "      <td>2</td>\n",
       "      <td>0</td>\n",
       "      <td>1</td>\n",
       "    </tr>\n",
       "    <tr>\n",
       "      <th>6</th>\n",
       "      <td>604</td>\n",
       "      <td>1.43</td>\n",
       "      <td>1</td>\n",
       "      <td>0.33</td>\n",
       "      <td>0</td>\n",
       "      <td>-1.47</td>\n",
       "      <td>3</td>\n",
       "      <td>2009</td>\n",
       "      <td>1</td>\n",
       "      <td>2</td>\n",
       "      <td>2</td>\n",
       "    </tr>\n",
       "    <tr>\n",
       "      <th>7</th>\n",
       "      <td>266</td>\n",
       "      <td>NaN</td>\n",
       "      <td>0</td>\n",
       "      <td>-0.97</td>\n",
       "      <td>0</td>\n",
       "      <td>-0.97</td>\n",
       "      <td>5</td>\n",
       "      <td>1985</td>\n",
       "      <td>1</td>\n",
       "      <td>2</td>\n",
       "      <td>3</td>\n",
       "    </tr>\n",
       "    <tr>\n",
       "      <th>8</th>\n",
       "      <td>668</td>\n",
       "      <td>-1.37</td>\n",
       "      <td>1</td>\n",
       "      <td>1.13</td>\n",
       "      <td>13</td>\n",
       "      <td>-0.73</td>\n",
       "      <td>7</td>\n",
       "      <td>2002</td>\n",
       "      <td>3</td>\n",
       "      <td>1</td>\n",
       "      <td>1</td>\n",
       "    </tr>\n",
       "    <tr>\n",
       "      <th>9</th>\n",
       "      <td>170</td>\n",
       "      <td>-1.44</td>\n",
       "      <td>0</td>\n",
       "      <td>-1.17</td>\n",
       "      <td>0</td>\n",
       "      <td>0.74</td>\n",
       "      <td>2</td>\n",
       "      <td>2007</td>\n",
       "      <td>3</td>\n",
       "      <td>1</td>\n",
       "      <td>1</td>\n",
       "    </tr>\n",
       "  </tbody>\n",
       "</table>\n",
       "</div>"
      ],
      "text/plain": [
       "   Item_Identifier  Item_Weight  Item_Fat_Content  Item_Visibility  Item_Type  \\\n",
       "0             1103         1.73                 0            -1.13         13   \n",
       "1             1067        -0.94                 1            -0.53          4   \n",
       "2             1406         0.41                 0             0.66         11   \n",
       "3              809        -1.15                 0            -0.98         13   \n",
       "4             1184          NaN                 1             1.03          4   \n",
       "5              461        -0.62                 1            -0.04          6   \n",
       "6              604         1.43                 1             0.33          0   \n",
       "7              266          NaN                 0            -0.97          0   \n",
       "8              668        -1.37                 1             1.13         13   \n",
       "9              170        -1.44                 0            -1.17          0   \n",
       "\n",
       "   Item_MRP  Outlet_Identifier  Outlet_Establishment_Year  Outlet_Size  \\\n",
       "0     -0.54                  9                       1999            1   \n",
       "1     -0.87                  2                       2007            3   \n",
       "2      1.63                  0                       1998            3   \n",
       "3      0.23                  2                       2007            3   \n",
       "4      1.51                  5                       1985            1   \n",
       "5     -0.39                  8                       1997            2   \n",
       "6     -1.47                  3                       2009            1   \n",
       "7     -0.97                  5                       1985            1   \n",
       "8     -0.73                  7                       2002            3   \n",
       "9      0.74                  2                       2007            3   \n",
       "\n",
       "   Outlet_Location_Type  Outlet_Type  \n",
       "0                     0            1  \n",
       "1                     1            1  \n",
       "2                     2            0  \n",
       "3                     1            1  \n",
       "4                     2            3  \n",
       "5                     0            1  \n",
       "6                     2            2  \n",
       "7                     2            3  \n",
       "8                     1            1  \n",
       "9                     1            1  "
      ]
     },
     "execution_count": 53,
     "metadata": {},
     "output_type": "execute_result"
    }
   ],
   "source": [
    "sc = StandardScaler()\n",
    "\n",
    "df_test['Item_Weight'] = sc.fit_transform(df_test['Item_Weight'].values.reshape(-1,1))\n",
    "\n",
    "df_test['Item_Visibility'] = sc.fit_transform(df_test['Item_Visibility'].values.reshape(-1,1))\n",
    "\n",
    "df_test['Item_MRP'] = sc.fit_transform(df_test['Item_MRP'].values.reshape(-1,1))\n",
    "\n",
    "df_test.head(10)"
   ]
  },
  {
   "cell_type": "code",
   "execution_count": 54,
   "id": "d6aca891",
   "metadata": {
    "execution": {
     "iopub.execute_input": "2024-01-11T12:49:32.796493Z",
     "iopub.status.busy": "2024-01-11T12:49:32.795735Z",
     "iopub.status.idle": "2024-01-11T12:49:32.827760Z",
     "shell.execute_reply": "2024-01-11T12:49:32.826652Z"
    },
    "papermill": {
     "duration": 0.07001,
     "end_time": "2024-01-11T12:49:32.830507",
     "exception": false,
     "start_time": "2024-01-11T12:49:32.760497",
     "status": "completed"
    },
    "tags": []
   },
   "outputs": [],
   "source": [
    "# Loading trained model\n",
    "from joblib import load\n",
    "\n",
    "model = load('XGBRegressor.joblib')\n",
    "\n",
    "#predict the model\n",
    "Target_pred = model.predict(df_test)"
   ]
  },
  {
   "cell_type": "code",
   "execution_count": 55,
   "id": "8d464494",
   "metadata": {
    "execution": {
     "iopub.execute_input": "2024-01-11T12:49:32.899686Z",
     "iopub.status.busy": "2024-01-11T12:49:32.898910Z",
     "iopub.status.idle": "2024-01-11T12:49:32.912391Z",
     "shell.execute_reply": "2024-01-11T12:49:32.911343Z"
    },
    "papermill": {
     "duration": 0.050864,
     "end_time": "2024-01-11T12:49:32.914625",
     "exception": false,
     "start_time": "2024-01-11T12:49:32.863761",
     "status": "completed"
    },
    "tags": []
   },
   "outputs": [
    {
     "data": {
      "text/html": [
       "<div>\n",
       "<style scoped>\n",
       "    .dataframe tbody tr th:only-of-type {\n",
       "        vertical-align: middle;\n",
       "    }\n",
       "\n",
       "    .dataframe tbody tr th {\n",
       "        vertical-align: top;\n",
       "    }\n",
       "\n",
       "    .dataframe thead th {\n",
       "        text-align: right;\n",
       "    }\n",
       "</style>\n",
       "<table border=\"1\" class=\"dataframe\">\n",
       "  <thead>\n",
       "    <tr style=\"text-align: right;\">\n",
       "      <th></th>\n",
       "      <th>Item_Identifier</th>\n",
       "      <th>Item_Outlet_Sales</th>\n",
       "    </tr>\n",
       "  </thead>\n",
       "  <tbody>\n",
       "    <tr>\n",
       "      <th>0</th>\n",
       "      <td>1103</td>\n",
       "      <td>-0.32</td>\n",
       "    </tr>\n",
       "    <tr>\n",
       "      <th>1</th>\n",
       "      <td>1067</td>\n",
       "      <td>-0.57</td>\n",
       "    </tr>\n",
       "    <tr>\n",
       "      <th>2</th>\n",
       "      <td>1406</td>\n",
       "      <td>-1.09</td>\n",
       "    </tr>\n",
       "    <tr>\n",
       "      <th>3</th>\n",
       "      <td>809</td>\n",
       "      <td>0.08</td>\n",
       "    </tr>\n",
       "    <tr>\n",
       "      <th>4</th>\n",
       "      <td>1184</td>\n",
       "      <td>3.16</td>\n",
       "    </tr>\n",
       "    <tr>\n",
       "      <th>...</th>\n",
       "      <td>...</td>\n",
       "      <td>...</td>\n",
       "    </tr>\n",
       "    <tr>\n",
       "      <th>5676</th>\n",
       "      <td>231</td>\n",
       "      <td>0.10</td>\n",
       "    </tr>\n",
       "    <tr>\n",
       "      <th>5677</th>\n",
       "      <td>306</td>\n",
       "      <td>-0.16</td>\n",
       "    </tr>\n",
       "    <tr>\n",
       "      <th>5678</th>\n",
       "      <td>1412</td>\n",
       "      <td>0.02</td>\n",
       "    </tr>\n",
       "    <tr>\n",
       "      <th>5679</th>\n",
       "      <td>517</td>\n",
       "      <td>1.22</td>\n",
       "    </tr>\n",
       "    <tr>\n",
       "      <th>5680</th>\n",
       "      <td>987</td>\n",
       "      <td>-0.34</td>\n",
       "    </tr>\n",
       "  </tbody>\n",
       "</table>\n",
       "<p>5681 rows × 2 columns</p>\n",
       "</div>"
      ],
      "text/plain": [
       "      Item_Identifier  Item_Outlet_Sales\n",
       "0                1103              -0.32\n",
       "1                1067              -0.57\n",
       "2                1406              -1.09\n",
       "3                 809               0.08\n",
       "4                1184               3.16\n",
       "...               ...                ...\n",
       "5676              231               0.10\n",
       "5677              306              -0.16\n",
       "5678             1412               0.02\n",
       "5679              517               1.22\n",
       "5680              987              -0.34\n",
       "\n",
       "[5681 rows x 2 columns]"
      ]
     },
     "execution_count": 55,
     "metadata": {},
     "output_type": "execute_result"
    }
   ],
   "source": [
    "# Print each Item_Identifier with its predicted value and put the result in dataframe\n",
    "df = pd.DataFrame({'Item_Identifier':df_test['Item_Identifier'],'Item_Outlet_Sales':Target_pred})\n",
    "df"
   ]
  },
  {
   "cell_type": "code",
   "execution_count": null,
   "id": "d41b45ae",
   "metadata": {
    "papermill": {
     "duration": 0.033229,
     "end_time": "2024-01-11T12:49:32.981282",
     "exception": false,
     "start_time": "2024-01-11T12:49:32.948053",
     "status": "completed"
    },
    "tags": []
   },
   "outputs": [],
   "source": []
  }
 ],
 "metadata": {
  "kaggle": {
   "accelerator": "none",
   "dataSources": [
    {
     "datasetId": 9961,
     "sourceId": 14084,
     "sourceType": "datasetVersion"
    }
   ],
   "dockerImageVersionId": 30626,
   "isGpuEnabled": false,
   "isInternetEnabled": true,
   "language": "python",
   "sourceType": "notebook"
  },
  "kernelspec": {
   "display_name": "Python 3",
   "language": "python",
   "name": "python3"
  },
  "language_info": {
   "codemirror_mode": {
    "name": "ipython",
    "version": 3
   },
   "file_extension": ".py",
   "mimetype": "text/x-python",
   "name": "python",
   "nbconvert_exporter": "python",
   "pygments_lexer": "ipython3",
   "version": "3.10.12"
  },
  "papermill": {
   "default_parameters": {},
   "duration": 91.766729,
   "end_time": "2024-01-11T12:49:34.341258",
   "environment_variables": {},
   "exception": null,
   "input_path": "__notebook__.ipynb",
   "output_path": "__notebook__.ipynb",
   "parameters": {},
   "start_time": "2024-01-11T12:48:02.574529",
   "version": "2.4.0"
  }
 },
 "nbformat": 4,
 "nbformat_minor": 5
}
